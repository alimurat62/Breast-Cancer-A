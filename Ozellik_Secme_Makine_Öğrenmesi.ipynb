{
 "cells": [
  {
   "cell_type": "markdown",
   "id": "eb499f69-1386-408e-84b5-0db3c764f8e2",
   "metadata": {},
   "source": [
    "## Kütüphanlerin Yüklenmesi"
   ]
  },
  {
   "cell_type": "code",
   "execution_count": 72,
   "id": "55702de7-04c0-4bf9-a25a-807e5a537851",
   "metadata": {},
   "outputs": [],
   "source": [
    "import pandas as pd\n",
    "import numpy as np\n",
    "import matplotlib.pyplot as plt\n",
    "import seaborn as sns\n",
    "from datasets import load_dataset"
   ]
  },
  {
   "cell_type": "markdown",
   "id": "5851df82-0029-40f6-a040-66c33b4f514f",
   "metadata": {},
   "source": [
    "## Veri Setinin Yüklenmesi"
   ]
  },
  {
   "cell_type": "code",
   "execution_count": 73,
   "id": "4c4a759a-c992-42d0-b7c9-4b207eb653fb",
   "metadata": {},
   "outputs": [
    {
     "data": {
      "text/html": [
       "<div>\n",
       "<style scoped>\n",
       "    .dataframe tbody tr th:only-of-type {\n",
       "        vertical-align: middle;\n",
       "    }\n",
       "\n",
       "    .dataframe tbody tr th {\n",
       "        vertical-align: top;\n",
       "    }\n",
       "\n",
       "    .dataframe thead th {\n",
       "        text-align: right;\n",
       "    }\n",
       "</style>\n",
       "<table border=\"1\" class=\"dataframe\">\n",
       "  <thead>\n",
       "    <tr style=\"text-align: right;\">\n",
       "      <th></th>\n",
       "      <th>id</th>\n",
       "      <th>diagnosis</th>\n",
       "      <th>radius_mean</th>\n",
       "      <th>texture_mean</th>\n",
       "      <th>perimeter_mean</th>\n",
       "      <th>area_mean</th>\n",
       "      <th>smoothness_mean</th>\n",
       "      <th>compactness_mean</th>\n",
       "      <th>concavity_mean</th>\n",
       "      <th>concave points_mean</th>\n",
       "      <th>symmetry_mean</th>\n",
       "      <th>fractal_dimension_mean</th>\n",
       "      <th>radius_se</th>\n",
       "      <th>texture_se</th>\n",
       "      <th>perimeter_se</th>\n",
       "      <th>area_se</th>\n",
       "      <th>smoothness_se</th>\n",
       "      <th>compactness_se</th>\n",
       "      <th>concavity_se</th>\n",
       "      <th>concave points_se</th>\n",
       "      <th>symmetry_se</th>\n",
       "      <th>fractal_dimension_se</th>\n",
       "      <th>radius_worst</th>\n",
       "      <th>texture_worst</th>\n",
       "      <th>perimeter_worst</th>\n",
       "      <th>area_worst</th>\n",
       "      <th>smoothness_worst</th>\n",
       "      <th>compactness_worst</th>\n",
       "      <th>concavity_worst</th>\n",
       "      <th>concave points_worst</th>\n",
       "      <th>symmetry_worst</th>\n",
       "      <th>fractal_dimension_worst</th>\n",
       "      <th>Unnamed: 32</th>\n",
       "    </tr>\n",
       "  </thead>\n",
       "  <tbody>\n",
       "    <tr>\n",
       "      <th>0</th>\n",
       "      <td>842302</td>\n",
       "      <td>M</td>\n",
       "      <td>17.99</td>\n",
       "      <td>10.38</td>\n",
       "      <td>122.80</td>\n",
       "      <td>1001.0</td>\n",
       "      <td>0.11840</td>\n",
       "      <td>0.27760</td>\n",
       "      <td>0.30010</td>\n",
       "      <td>0.14710</td>\n",
       "      <td>0.2419</td>\n",
       "      <td>0.07871</td>\n",
       "      <td>1.0950</td>\n",
       "      <td>0.9053</td>\n",
       "      <td>8.589</td>\n",
       "      <td>153.40</td>\n",
       "      <td>0.006399</td>\n",
       "      <td>0.04904</td>\n",
       "      <td>0.05373</td>\n",
       "      <td>0.01587</td>\n",
       "      <td>0.03003</td>\n",
       "      <td>0.006193</td>\n",
       "      <td>25.38</td>\n",
       "      <td>17.33</td>\n",
       "      <td>184.60</td>\n",
       "      <td>2019.0</td>\n",
       "      <td>0.1622</td>\n",
       "      <td>0.6656</td>\n",
       "      <td>0.7119</td>\n",
       "      <td>0.2654</td>\n",
       "      <td>0.4601</td>\n",
       "      <td>0.11890</td>\n",
       "      <td>NaN</td>\n",
       "    </tr>\n",
       "    <tr>\n",
       "      <th>1</th>\n",
       "      <td>842517</td>\n",
       "      <td>M</td>\n",
       "      <td>20.57</td>\n",
       "      <td>17.77</td>\n",
       "      <td>132.90</td>\n",
       "      <td>1326.0</td>\n",
       "      <td>0.08474</td>\n",
       "      <td>0.07864</td>\n",
       "      <td>0.08690</td>\n",
       "      <td>0.07017</td>\n",
       "      <td>0.1812</td>\n",
       "      <td>0.05667</td>\n",
       "      <td>0.5435</td>\n",
       "      <td>0.7339</td>\n",
       "      <td>3.398</td>\n",
       "      <td>74.08</td>\n",
       "      <td>0.005225</td>\n",
       "      <td>0.01308</td>\n",
       "      <td>0.01860</td>\n",
       "      <td>0.01340</td>\n",
       "      <td>0.01389</td>\n",
       "      <td>0.003532</td>\n",
       "      <td>24.99</td>\n",
       "      <td>23.41</td>\n",
       "      <td>158.80</td>\n",
       "      <td>1956.0</td>\n",
       "      <td>0.1238</td>\n",
       "      <td>0.1866</td>\n",
       "      <td>0.2416</td>\n",
       "      <td>0.1860</td>\n",
       "      <td>0.2750</td>\n",
       "      <td>0.08902</td>\n",
       "      <td>NaN</td>\n",
       "    </tr>\n",
       "    <tr>\n",
       "      <th>2</th>\n",
       "      <td>84300903</td>\n",
       "      <td>M</td>\n",
       "      <td>19.69</td>\n",
       "      <td>21.25</td>\n",
       "      <td>130.00</td>\n",
       "      <td>1203.0</td>\n",
       "      <td>0.10960</td>\n",
       "      <td>0.15990</td>\n",
       "      <td>0.19740</td>\n",
       "      <td>0.12790</td>\n",
       "      <td>0.2069</td>\n",
       "      <td>0.05999</td>\n",
       "      <td>0.7456</td>\n",
       "      <td>0.7869</td>\n",
       "      <td>4.585</td>\n",
       "      <td>94.03</td>\n",
       "      <td>0.006150</td>\n",
       "      <td>0.04006</td>\n",
       "      <td>0.03832</td>\n",
       "      <td>0.02058</td>\n",
       "      <td>0.02250</td>\n",
       "      <td>0.004571</td>\n",
       "      <td>23.57</td>\n",
       "      <td>25.53</td>\n",
       "      <td>152.50</td>\n",
       "      <td>1709.0</td>\n",
       "      <td>0.1444</td>\n",
       "      <td>0.4245</td>\n",
       "      <td>0.4504</td>\n",
       "      <td>0.2430</td>\n",
       "      <td>0.3613</td>\n",
       "      <td>0.08758</td>\n",
       "      <td>NaN</td>\n",
       "    </tr>\n",
       "    <tr>\n",
       "      <th>3</th>\n",
       "      <td>84348301</td>\n",
       "      <td>M</td>\n",
       "      <td>11.42</td>\n",
       "      <td>20.38</td>\n",
       "      <td>77.58</td>\n",
       "      <td>386.1</td>\n",
       "      <td>0.14250</td>\n",
       "      <td>0.28390</td>\n",
       "      <td>0.24140</td>\n",
       "      <td>0.10520</td>\n",
       "      <td>0.2597</td>\n",
       "      <td>0.09744</td>\n",
       "      <td>0.4956</td>\n",
       "      <td>1.1560</td>\n",
       "      <td>3.445</td>\n",
       "      <td>27.23</td>\n",
       "      <td>0.009110</td>\n",
       "      <td>0.07458</td>\n",
       "      <td>0.05661</td>\n",
       "      <td>0.01867</td>\n",
       "      <td>0.05963</td>\n",
       "      <td>0.009208</td>\n",
       "      <td>14.91</td>\n",
       "      <td>26.50</td>\n",
       "      <td>98.87</td>\n",
       "      <td>567.7</td>\n",
       "      <td>0.2098</td>\n",
       "      <td>0.8663</td>\n",
       "      <td>0.6869</td>\n",
       "      <td>0.2575</td>\n",
       "      <td>0.6638</td>\n",
       "      <td>0.17300</td>\n",
       "      <td>NaN</td>\n",
       "    </tr>\n",
       "    <tr>\n",
       "      <th>4</th>\n",
       "      <td>84358402</td>\n",
       "      <td>M</td>\n",
       "      <td>20.29</td>\n",
       "      <td>14.34</td>\n",
       "      <td>135.10</td>\n",
       "      <td>1297.0</td>\n",
       "      <td>0.10030</td>\n",
       "      <td>0.13280</td>\n",
       "      <td>0.19800</td>\n",
       "      <td>0.10430</td>\n",
       "      <td>0.1809</td>\n",
       "      <td>0.05883</td>\n",
       "      <td>0.7572</td>\n",
       "      <td>0.7813</td>\n",
       "      <td>5.438</td>\n",
       "      <td>94.44</td>\n",
       "      <td>0.011490</td>\n",
       "      <td>0.02461</td>\n",
       "      <td>0.05688</td>\n",
       "      <td>0.01885</td>\n",
       "      <td>0.01756</td>\n",
       "      <td>0.005115</td>\n",
       "      <td>22.54</td>\n",
       "      <td>16.67</td>\n",
       "      <td>152.20</td>\n",
       "      <td>1575.0</td>\n",
       "      <td>0.1374</td>\n",
       "      <td>0.2050</td>\n",
       "      <td>0.4000</td>\n",
       "      <td>0.1625</td>\n",
       "      <td>0.2364</td>\n",
       "      <td>0.07678</td>\n",
       "      <td>NaN</td>\n",
       "    </tr>\n",
       "    <tr>\n",
       "      <th>5</th>\n",
       "      <td>843786</td>\n",
       "      <td>M</td>\n",
       "      <td>12.45</td>\n",
       "      <td>15.70</td>\n",
       "      <td>82.57</td>\n",
       "      <td>477.1</td>\n",
       "      <td>0.12780</td>\n",
       "      <td>0.17000</td>\n",
       "      <td>0.15780</td>\n",
       "      <td>0.08089</td>\n",
       "      <td>0.2087</td>\n",
       "      <td>0.07613</td>\n",
       "      <td>0.3345</td>\n",
       "      <td>0.8902</td>\n",
       "      <td>2.217</td>\n",
       "      <td>27.19</td>\n",
       "      <td>0.007510</td>\n",
       "      <td>0.03345</td>\n",
       "      <td>0.03672</td>\n",
       "      <td>0.01137</td>\n",
       "      <td>0.02165</td>\n",
       "      <td>0.005082</td>\n",
       "      <td>15.47</td>\n",
       "      <td>23.75</td>\n",
       "      <td>103.40</td>\n",
       "      <td>741.6</td>\n",
       "      <td>0.1791</td>\n",
       "      <td>0.5249</td>\n",
       "      <td>0.5355</td>\n",
       "      <td>0.1741</td>\n",
       "      <td>0.3985</td>\n",
       "      <td>0.12440</td>\n",
       "      <td>NaN</td>\n",
       "    </tr>\n",
       "    <tr>\n",
       "      <th>6</th>\n",
       "      <td>844359</td>\n",
       "      <td>M</td>\n",
       "      <td>18.25</td>\n",
       "      <td>19.98</td>\n",
       "      <td>119.60</td>\n",
       "      <td>1040.0</td>\n",
       "      <td>0.09463</td>\n",
       "      <td>0.10900</td>\n",
       "      <td>0.11270</td>\n",
       "      <td>0.07400</td>\n",
       "      <td>0.1794</td>\n",
       "      <td>0.05742</td>\n",
       "      <td>0.4467</td>\n",
       "      <td>0.7732</td>\n",
       "      <td>3.180</td>\n",
       "      <td>53.91</td>\n",
       "      <td>0.004314</td>\n",
       "      <td>0.01382</td>\n",
       "      <td>0.02254</td>\n",
       "      <td>0.01039</td>\n",
       "      <td>0.01369</td>\n",
       "      <td>0.002179</td>\n",
       "      <td>22.88</td>\n",
       "      <td>27.66</td>\n",
       "      <td>153.20</td>\n",
       "      <td>1606.0</td>\n",
       "      <td>0.1442</td>\n",
       "      <td>0.2576</td>\n",
       "      <td>0.3784</td>\n",
       "      <td>0.1932</td>\n",
       "      <td>0.3063</td>\n",
       "      <td>0.08368</td>\n",
       "      <td>NaN</td>\n",
       "    </tr>\n",
       "    <tr>\n",
       "      <th>7</th>\n",
       "      <td>84458202</td>\n",
       "      <td>M</td>\n",
       "      <td>13.71</td>\n",
       "      <td>20.83</td>\n",
       "      <td>90.20</td>\n",
       "      <td>577.9</td>\n",
       "      <td>0.11890</td>\n",
       "      <td>0.16450</td>\n",
       "      <td>0.09366</td>\n",
       "      <td>0.05985</td>\n",
       "      <td>0.2196</td>\n",
       "      <td>0.07451</td>\n",
       "      <td>0.5835</td>\n",
       "      <td>1.3770</td>\n",
       "      <td>3.856</td>\n",
       "      <td>50.96</td>\n",
       "      <td>0.008805</td>\n",
       "      <td>0.03029</td>\n",
       "      <td>0.02488</td>\n",
       "      <td>0.01448</td>\n",
       "      <td>0.01486</td>\n",
       "      <td>0.005412</td>\n",
       "      <td>17.06</td>\n",
       "      <td>28.14</td>\n",
       "      <td>110.60</td>\n",
       "      <td>897.0</td>\n",
       "      <td>0.1654</td>\n",
       "      <td>0.3682</td>\n",
       "      <td>0.2678</td>\n",
       "      <td>0.1556</td>\n",
       "      <td>0.3196</td>\n",
       "      <td>0.11510</td>\n",
       "      <td>NaN</td>\n",
       "    </tr>\n",
       "    <tr>\n",
       "      <th>8</th>\n",
       "      <td>844981</td>\n",
       "      <td>M</td>\n",
       "      <td>13.00</td>\n",
       "      <td>21.82</td>\n",
       "      <td>87.50</td>\n",
       "      <td>519.8</td>\n",
       "      <td>0.12730</td>\n",
       "      <td>0.19320</td>\n",
       "      <td>0.18590</td>\n",
       "      <td>0.09353</td>\n",
       "      <td>0.2350</td>\n",
       "      <td>0.07389</td>\n",
       "      <td>0.3063</td>\n",
       "      <td>1.0020</td>\n",
       "      <td>2.406</td>\n",
       "      <td>24.32</td>\n",
       "      <td>0.005731</td>\n",
       "      <td>0.03502</td>\n",
       "      <td>0.03553</td>\n",
       "      <td>0.01226</td>\n",
       "      <td>0.02143</td>\n",
       "      <td>0.003749</td>\n",
       "      <td>15.49</td>\n",
       "      <td>30.73</td>\n",
       "      <td>106.20</td>\n",
       "      <td>739.3</td>\n",
       "      <td>0.1703</td>\n",
       "      <td>0.5401</td>\n",
       "      <td>0.5390</td>\n",
       "      <td>0.2060</td>\n",
       "      <td>0.4378</td>\n",
       "      <td>0.10720</td>\n",
       "      <td>NaN</td>\n",
       "    </tr>\n",
       "    <tr>\n",
       "      <th>9</th>\n",
       "      <td>84501001</td>\n",
       "      <td>M</td>\n",
       "      <td>12.46</td>\n",
       "      <td>24.04</td>\n",
       "      <td>83.97</td>\n",
       "      <td>475.9</td>\n",
       "      <td>0.11860</td>\n",
       "      <td>0.23960</td>\n",
       "      <td>0.22730</td>\n",
       "      <td>0.08543</td>\n",
       "      <td>0.2030</td>\n",
       "      <td>0.08243</td>\n",
       "      <td>0.2976</td>\n",
       "      <td>1.5990</td>\n",
       "      <td>2.039</td>\n",
       "      <td>23.94</td>\n",
       "      <td>0.007149</td>\n",
       "      <td>0.07217</td>\n",
       "      <td>0.07743</td>\n",
       "      <td>0.01432</td>\n",
       "      <td>0.01789</td>\n",
       "      <td>0.010080</td>\n",
       "      <td>15.09</td>\n",
       "      <td>40.68</td>\n",
       "      <td>97.65</td>\n",
       "      <td>711.4</td>\n",
       "      <td>0.1853</td>\n",
       "      <td>1.0580</td>\n",
       "      <td>1.1050</td>\n",
       "      <td>0.2210</td>\n",
       "      <td>0.4366</td>\n",
       "      <td>0.20750</td>\n",
       "      <td>NaN</td>\n",
       "    </tr>\n",
       "  </tbody>\n",
       "</table>\n",
       "</div>"
      ],
      "text/plain": [
       "         id diagnosis  radius_mean  texture_mean  perimeter_mean  area_mean  \\\n",
       "0    842302         M        17.99         10.38          122.80     1001.0   \n",
       "1    842517         M        20.57         17.77          132.90     1326.0   \n",
       "2  84300903         M        19.69         21.25          130.00     1203.0   \n",
       "3  84348301         M        11.42         20.38           77.58      386.1   \n",
       "4  84358402         M        20.29         14.34          135.10     1297.0   \n",
       "5    843786         M        12.45         15.70           82.57      477.1   \n",
       "6    844359         M        18.25         19.98          119.60     1040.0   \n",
       "7  84458202         M        13.71         20.83           90.20      577.9   \n",
       "8    844981         M        13.00         21.82           87.50      519.8   \n",
       "9  84501001         M        12.46         24.04           83.97      475.9   \n",
       "\n",
       "   smoothness_mean  compactness_mean  concavity_mean  concave points_mean  \\\n",
       "0          0.11840           0.27760         0.30010              0.14710   \n",
       "1          0.08474           0.07864         0.08690              0.07017   \n",
       "2          0.10960           0.15990         0.19740              0.12790   \n",
       "3          0.14250           0.28390         0.24140              0.10520   \n",
       "4          0.10030           0.13280         0.19800              0.10430   \n",
       "5          0.12780           0.17000         0.15780              0.08089   \n",
       "6          0.09463           0.10900         0.11270              0.07400   \n",
       "7          0.11890           0.16450         0.09366              0.05985   \n",
       "8          0.12730           0.19320         0.18590              0.09353   \n",
       "9          0.11860           0.23960         0.22730              0.08543   \n",
       "\n",
       "   symmetry_mean  fractal_dimension_mean  radius_se  texture_se  perimeter_se  \\\n",
       "0         0.2419                 0.07871     1.0950      0.9053         8.589   \n",
       "1         0.1812                 0.05667     0.5435      0.7339         3.398   \n",
       "2         0.2069                 0.05999     0.7456      0.7869         4.585   \n",
       "3         0.2597                 0.09744     0.4956      1.1560         3.445   \n",
       "4         0.1809                 0.05883     0.7572      0.7813         5.438   \n",
       "5         0.2087                 0.07613     0.3345      0.8902         2.217   \n",
       "6         0.1794                 0.05742     0.4467      0.7732         3.180   \n",
       "7         0.2196                 0.07451     0.5835      1.3770         3.856   \n",
       "8         0.2350                 0.07389     0.3063      1.0020         2.406   \n",
       "9         0.2030                 0.08243     0.2976      1.5990         2.039   \n",
       "\n",
       "   area_se  smoothness_se  compactness_se  concavity_se  concave points_se  \\\n",
       "0   153.40       0.006399         0.04904       0.05373            0.01587   \n",
       "1    74.08       0.005225         0.01308       0.01860            0.01340   \n",
       "2    94.03       0.006150         0.04006       0.03832            0.02058   \n",
       "3    27.23       0.009110         0.07458       0.05661            0.01867   \n",
       "4    94.44       0.011490         0.02461       0.05688            0.01885   \n",
       "5    27.19       0.007510         0.03345       0.03672            0.01137   \n",
       "6    53.91       0.004314         0.01382       0.02254            0.01039   \n",
       "7    50.96       0.008805         0.03029       0.02488            0.01448   \n",
       "8    24.32       0.005731         0.03502       0.03553            0.01226   \n",
       "9    23.94       0.007149         0.07217       0.07743            0.01432   \n",
       "\n",
       "   symmetry_se  fractal_dimension_se  radius_worst  texture_worst  \\\n",
       "0      0.03003              0.006193         25.38          17.33   \n",
       "1      0.01389              0.003532         24.99          23.41   \n",
       "2      0.02250              0.004571         23.57          25.53   \n",
       "3      0.05963              0.009208         14.91          26.50   \n",
       "4      0.01756              0.005115         22.54          16.67   \n",
       "5      0.02165              0.005082         15.47          23.75   \n",
       "6      0.01369              0.002179         22.88          27.66   \n",
       "7      0.01486              0.005412         17.06          28.14   \n",
       "8      0.02143              0.003749         15.49          30.73   \n",
       "9      0.01789              0.010080         15.09          40.68   \n",
       "\n",
       "   perimeter_worst  area_worst  smoothness_worst  compactness_worst  \\\n",
       "0           184.60      2019.0            0.1622             0.6656   \n",
       "1           158.80      1956.0            0.1238             0.1866   \n",
       "2           152.50      1709.0            0.1444             0.4245   \n",
       "3            98.87       567.7            0.2098             0.8663   \n",
       "4           152.20      1575.0            0.1374             0.2050   \n",
       "5           103.40       741.6            0.1791             0.5249   \n",
       "6           153.20      1606.0            0.1442             0.2576   \n",
       "7           110.60       897.0            0.1654             0.3682   \n",
       "8           106.20       739.3            0.1703             0.5401   \n",
       "9            97.65       711.4            0.1853             1.0580   \n",
       "\n",
       "   concavity_worst  concave points_worst  symmetry_worst  \\\n",
       "0           0.7119                0.2654          0.4601   \n",
       "1           0.2416                0.1860          0.2750   \n",
       "2           0.4504                0.2430          0.3613   \n",
       "3           0.6869                0.2575          0.6638   \n",
       "4           0.4000                0.1625          0.2364   \n",
       "5           0.5355                0.1741          0.3985   \n",
       "6           0.3784                0.1932          0.3063   \n",
       "7           0.2678                0.1556          0.3196   \n",
       "8           0.5390                0.2060          0.4378   \n",
       "9           1.1050                0.2210          0.4366   \n",
       "\n",
       "   fractal_dimension_worst  Unnamed: 32  \n",
       "0                  0.11890          NaN  \n",
       "1                  0.08902          NaN  \n",
       "2                  0.08758          NaN  \n",
       "3                  0.17300          NaN  \n",
       "4                  0.07678          NaN  \n",
       "5                  0.12440          NaN  \n",
       "6                  0.08368          NaN  \n",
       "7                  0.11510          NaN  \n",
       "8                  0.10720          NaN  \n",
       "9                  0.20750          NaN  "
      ]
     },
     "execution_count": 73,
     "metadata": {},
     "output_type": "execute_result"
    }
   ],
   "source": [
    "# breast-cancer-wisconsin verisetini yükleyelim\n",
    "dataset = load_dataset(\"scikit-learn/breast-cancer-wisconsin\")\n",
    "df = dataset[\"train\"].to_pandas()\n",
    "\n",
    "# Pandas ayarlarını yaparak tüm sütunların görünmesini sağlıyoruz\n",
    "pd.set_option('display.max_columns', None)\n",
    "\n",
    "# İlk 10 satıra bakalım\n",
    "df.head(10)"
   ]
  },
  {
   "cell_type": "markdown",
   "id": "2bb7161d-7f89-4d79-86da-c45330f7430e",
   "metadata": {},
   "source": [
    "## Tahmin etmemiz gereken değerler \"diagnosis\" sütununda"
   ]
  },
  {
   "cell_type": "code",
   "execution_count": 74,
   "id": "7cab91fd-1632-48cc-9896-ce509f1e53e9",
   "metadata": {},
   "outputs": [
    {
     "data": {
      "text/plain": [
       "id                           0\n",
       "diagnosis                    0\n",
       "radius_mean                  0\n",
       "texture_mean                 0\n",
       "perimeter_mean               0\n",
       "area_mean                    0\n",
       "smoothness_mean              0\n",
       "compactness_mean             0\n",
       "concavity_mean               0\n",
       "concave points_mean          0\n",
       "symmetry_mean                0\n",
       "fractal_dimension_mean       0\n",
       "radius_se                    0\n",
       "texture_se                   0\n",
       "perimeter_se                 0\n",
       "area_se                      0\n",
       "smoothness_se                0\n",
       "compactness_se               0\n",
       "concavity_se                 0\n",
       "concave points_se            0\n",
       "symmetry_se                  0\n",
       "fractal_dimension_se         0\n",
       "radius_worst                 0\n",
       "texture_worst                0\n",
       "perimeter_worst              0\n",
       "area_worst                   0\n",
       "smoothness_worst             0\n",
       "compactness_worst            0\n",
       "concavity_worst              0\n",
       "concave points_worst         0\n",
       "symmetry_worst               0\n",
       "fractal_dimension_worst      0\n",
       "Unnamed: 32                569\n",
       "dtype: int64"
      ]
     },
     "execution_count": 74,
     "metadata": {},
     "output_type": "execute_result"
    }
   ],
   "source": [
    "df.isnull().sum()"
   ]
  },
  {
   "cell_type": "code",
   "execution_count": 75,
   "id": "ddd260cd-e860-454b-8446-4a0f6b0a11e4",
   "metadata": {},
   "outputs": [
    {
     "name": "stdout",
     "output_type": "stream",
     "text": [
      "<class 'pandas.core.frame.DataFrame'>\n",
      "RangeIndex: 569 entries, 0 to 568\n",
      "Data columns (total 33 columns):\n",
      " #   Column                   Non-Null Count  Dtype  \n",
      "---  ------                   --------------  -----  \n",
      " 0   id                       569 non-null    int64  \n",
      " 1   diagnosis                569 non-null    object \n",
      " 2   radius_mean              569 non-null    float64\n",
      " 3   texture_mean             569 non-null    float64\n",
      " 4   perimeter_mean           569 non-null    float64\n",
      " 5   area_mean                569 non-null    float64\n",
      " 6   smoothness_mean          569 non-null    float64\n",
      " 7   compactness_mean         569 non-null    float64\n",
      " 8   concavity_mean           569 non-null    float64\n",
      " 9   concave points_mean      569 non-null    float64\n",
      " 10  symmetry_mean            569 non-null    float64\n",
      " 11  fractal_dimension_mean   569 non-null    float64\n",
      " 12  radius_se                569 non-null    float64\n",
      " 13  texture_se               569 non-null    float64\n",
      " 14  perimeter_se             569 non-null    float64\n",
      " 15  area_se                  569 non-null    float64\n",
      " 16  smoothness_se            569 non-null    float64\n",
      " 17  compactness_se           569 non-null    float64\n",
      " 18  concavity_se             569 non-null    float64\n",
      " 19  concave points_se        569 non-null    float64\n",
      " 20  symmetry_se              569 non-null    float64\n",
      " 21  fractal_dimension_se     569 non-null    float64\n",
      " 22  radius_worst             569 non-null    float64\n",
      " 23  texture_worst            569 non-null    float64\n",
      " 24  perimeter_worst          569 non-null    float64\n",
      " 25  area_worst               569 non-null    float64\n",
      " 26  smoothness_worst         569 non-null    float64\n",
      " 27  compactness_worst        569 non-null    float64\n",
      " 28  concavity_worst          569 non-null    float64\n",
      " 29  concave points_worst     569 non-null    float64\n",
      " 30  symmetry_worst           569 non-null    float64\n",
      " 31  fractal_dimension_worst  569 non-null    float64\n",
      " 32  Unnamed: 32              0 non-null      float64\n",
      "dtypes: float64(31), int64(1), object(1)\n",
      "memory usage: 146.8+ KB\n"
     ]
    }
   ],
   "source": [
    "df.info()"
   ]
  },
  {
   "cell_type": "markdown",
   "id": "1e415455-91c3-4cc2-982c-cc69a338fab0",
   "metadata": {},
   "source": [
    "## Object veri türünde olan \"diagnosis\" için sayısal değere dönüştürelim"
   ]
  },
  {
   "cell_type": "code",
   "execution_count": 76,
   "id": "ac54013c-2caa-4836-9329-5c0583154f9f",
   "metadata": {},
   "outputs": [
    {
     "data": {
      "text/plain": [
       "array(['M', 'B'], dtype=object)"
      ]
     },
     "execution_count": 76,
     "metadata": {},
     "output_type": "execute_result"
    }
   ],
   "source": [
    "df[\"diagnosis\"].unique()"
   ]
  },
  {
   "cell_type": "raw",
   "id": "e3a10a10-506d-45a1-a856-557cfe3f0b4d",
   "metadata": {},
   "source": [
    "### \"M\" = Malign (Kanserli) --- > 0\n",
    "### \"B\" = Benign (İyi huylu) ---- > 1"
   ]
  },
  {
   "cell_type": "code",
   "execution_count": 77,
   "id": "2a84abe0-32d0-468c-90c6-7d44e12b22e4",
   "metadata": {},
   "outputs": [],
   "source": [
    "df[\"diagnosis\"] = df[\"diagnosis\"].map({\"M\" : 0 , \"B\" : 1})"
   ]
  },
  {
   "cell_type": "code",
   "execution_count": 78,
   "id": "1ec7e900-25d3-444f-99a3-4aaee811f2a1",
   "metadata": {},
   "outputs": [
    {
     "data": {
      "text/html": [
       "<div>\n",
       "<style scoped>\n",
       "    .dataframe tbody tr th:only-of-type {\n",
       "        vertical-align: middle;\n",
       "    }\n",
       "\n",
       "    .dataframe tbody tr th {\n",
       "        vertical-align: top;\n",
       "    }\n",
       "\n",
       "    .dataframe thead th {\n",
       "        text-align: right;\n",
       "    }\n",
       "</style>\n",
       "<table border=\"1\" class=\"dataframe\">\n",
       "  <thead>\n",
       "    <tr style=\"text-align: right;\">\n",
       "      <th></th>\n",
       "      <th>id</th>\n",
       "      <th>diagnosis</th>\n",
       "      <th>radius_mean</th>\n",
       "      <th>texture_mean</th>\n",
       "      <th>perimeter_mean</th>\n",
       "      <th>area_mean</th>\n",
       "      <th>smoothness_mean</th>\n",
       "      <th>compactness_mean</th>\n",
       "      <th>concavity_mean</th>\n",
       "      <th>concave points_mean</th>\n",
       "      <th>symmetry_mean</th>\n",
       "      <th>fractal_dimension_mean</th>\n",
       "      <th>radius_se</th>\n",
       "      <th>texture_se</th>\n",
       "      <th>perimeter_se</th>\n",
       "      <th>area_se</th>\n",
       "      <th>smoothness_se</th>\n",
       "      <th>compactness_se</th>\n",
       "      <th>concavity_se</th>\n",
       "      <th>concave points_se</th>\n",
       "      <th>symmetry_se</th>\n",
       "      <th>fractal_dimension_se</th>\n",
       "      <th>radius_worst</th>\n",
       "      <th>texture_worst</th>\n",
       "      <th>perimeter_worst</th>\n",
       "      <th>area_worst</th>\n",
       "      <th>smoothness_worst</th>\n",
       "      <th>compactness_worst</th>\n",
       "      <th>concavity_worst</th>\n",
       "      <th>concave points_worst</th>\n",
       "      <th>symmetry_worst</th>\n",
       "      <th>fractal_dimension_worst</th>\n",
       "      <th>Unnamed: 32</th>\n",
       "    </tr>\n",
       "  </thead>\n",
       "  <tbody>\n",
       "    <tr>\n",
       "      <th>0</th>\n",
       "      <td>842302</td>\n",
       "      <td>0</td>\n",
       "      <td>17.99</td>\n",
       "      <td>10.38</td>\n",
       "      <td>122.80</td>\n",
       "      <td>1001.0</td>\n",
       "      <td>0.11840</td>\n",
       "      <td>0.27760</td>\n",
       "      <td>0.30010</td>\n",
       "      <td>0.14710</td>\n",
       "      <td>0.2419</td>\n",
       "      <td>0.07871</td>\n",
       "      <td>1.0950</td>\n",
       "      <td>0.9053</td>\n",
       "      <td>8.589</td>\n",
       "      <td>153.40</td>\n",
       "      <td>0.006399</td>\n",
       "      <td>0.04904</td>\n",
       "      <td>0.05373</td>\n",
       "      <td>0.01587</td>\n",
       "      <td>0.03003</td>\n",
       "      <td>0.006193</td>\n",
       "      <td>25.380</td>\n",
       "      <td>17.33</td>\n",
       "      <td>184.60</td>\n",
       "      <td>2019.0</td>\n",
       "      <td>0.16220</td>\n",
       "      <td>0.66560</td>\n",
       "      <td>0.7119</td>\n",
       "      <td>0.2654</td>\n",
       "      <td>0.4601</td>\n",
       "      <td>0.11890</td>\n",
       "      <td>NaN</td>\n",
       "    </tr>\n",
       "    <tr>\n",
       "      <th>1</th>\n",
       "      <td>842517</td>\n",
       "      <td>0</td>\n",
       "      <td>20.57</td>\n",
       "      <td>17.77</td>\n",
       "      <td>132.90</td>\n",
       "      <td>1326.0</td>\n",
       "      <td>0.08474</td>\n",
       "      <td>0.07864</td>\n",
       "      <td>0.08690</td>\n",
       "      <td>0.07017</td>\n",
       "      <td>0.1812</td>\n",
       "      <td>0.05667</td>\n",
       "      <td>0.5435</td>\n",
       "      <td>0.7339</td>\n",
       "      <td>3.398</td>\n",
       "      <td>74.08</td>\n",
       "      <td>0.005225</td>\n",
       "      <td>0.01308</td>\n",
       "      <td>0.01860</td>\n",
       "      <td>0.01340</td>\n",
       "      <td>0.01389</td>\n",
       "      <td>0.003532</td>\n",
       "      <td>24.990</td>\n",
       "      <td>23.41</td>\n",
       "      <td>158.80</td>\n",
       "      <td>1956.0</td>\n",
       "      <td>0.12380</td>\n",
       "      <td>0.18660</td>\n",
       "      <td>0.2416</td>\n",
       "      <td>0.1860</td>\n",
       "      <td>0.2750</td>\n",
       "      <td>0.08902</td>\n",
       "      <td>NaN</td>\n",
       "    </tr>\n",
       "    <tr>\n",
       "      <th>2</th>\n",
       "      <td>84300903</td>\n",
       "      <td>0</td>\n",
       "      <td>19.69</td>\n",
       "      <td>21.25</td>\n",
       "      <td>130.00</td>\n",
       "      <td>1203.0</td>\n",
       "      <td>0.10960</td>\n",
       "      <td>0.15990</td>\n",
       "      <td>0.19740</td>\n",
       "      <td>0.12790</td>\n",
       "      <td>0.2069</td>\n",
       "      <td>0.05999</td>\n",
       "      <td>0.7456</td>\n",
       "      <td>0.7869</td>\n",
       "      <td>4.585</td>\n",
       "      <td>94.03</td>\n",
       "      <td>0.006150</td>\n",
       "      <td>0.04006</td>\n",
       "      <td>0.03832</td>\n",
       "      <td>0.02058</td>\n",
       "      <td>0.02250</td>\n",
       "      <td>0.004571</td>\n",
       "      <td>23.570</td>\n",
       "      <td>25.53</td>\n",
       "      <td>152.50</td>\n",
       "      <td>1709.0</td>\n",
       "      <td>0.14440</td>\n",
       "      <td>0.42450</td>\n",
       "      <td>0.4504</td>\n",
       "      <td>0.2430</td>\n",
       "      <td>0.3613</td>\n",
       "      <td>0.08758</td>\n",
       "      <td>NaN</td>\n",
       "    </tr>\n",
       "    <tr>\n",
       "      <th>3</th>\n",
       "      <td>84348301</td>\n",
       "      <td>0</td>\n",
       "      <td>11.42</td>\n",
       "      <td>20.38</td>\n",
       "      <td>77.58</td>\n",
       "      <td>386.1</td>\n",
       "      <td>0.14250</td>\n",
       "      <td>0.28390</td>\n",
       "      <td>0.24140</td>\n",
       "      <td>0.10520</td>\n",
       "      <td>0.2597</td>\n",
       "      <td>0.09744</td>\n",
       "      <td>0.4956</td>\n",
       "      <td>1.1560</td>\n",
       "      <td>3.445</td>\n",
       "      <td>27.23</td>\n",
       "      <td>0.009110</td>\n",
       "      <td>0.07458</td>\n",
       "      <td>0.05661</td>\n",
       "      <td>0.01867</td>\n",
       "      <td>0.05963</td>\n",
       "      <td>0.009208</td>\n",
       "      <td>14.910</td>\n",
       "      <td>26.50</td>\n",
       "      <td>98.87</td>\n",
       "      <td>567.7</td>\n",
       "      <td>0.20980</td>\n",
       "      <td>0.86630</td>\n",
       "      <td>0.6869</td>\n",
       "      <td>0.2575</td>\n",
       "      <td>0.6638</td>\n",
       "      <td>0.17300</td>\n",
       "      <td>NaN</td>\n",
       "    </tr>\n",
       "    <tr>\n",
       "      <th>4</th>\n",
       "      <td>84358402</td>\n",
       "      <td>0</td>\n",
       "      <td>20.29</td>\n",
       "      <td>14.34</td>\n",
       "      <td>135.10</td>\n",
       "      <td>1297.0</td>\n",
       "      <td>0.10030</td>\n",
       "      <td>0.13280</td>\n",
       "      <td>0.19800</td>\n",
       "      <td>0.10430</td>\n",
       "      <td>0.1809</td>\n",
       "      <td>0.05883</td>\n",
       "      <td>0.7572</td>\n",
       "      <td>0.7813</td>\n",
       "      <td>5.438</td>\n",
       "      <td>94.44</td>\n",
       "      <td>0.011490</td>\n",
       "      <td>0.02461</td>\n",
       "      <td>0.05688</td>\n",
       "      <td>0.01885</td>\n",
       "      <td>0.01756</td>\n",
       "      <td>0.005115</td>\n",
       "      <td>22.540</td>\n",
       "      <td>16.67</td>\n",
       "      <td>152.20</td>\n",
       "      <td>1575.0</td>\n",
       "      <td>0.13740</td>\n",
       "      <td>0.20500</td>\n",
       "      <td>0.4000</td>\n",
       "      <td>0.1625</td>\n",
       "      <td>0.2364</td>\n",
       "      <td>0.07678</td>\n",
       "      <td>NaN</td>\n",
       "    </tr>\n",
       "    <tr>\n",
       "      <th>...</th>\n",
       "      <td>...</td>\n",
       "      <td>...</td>\n",
       "      <td>...</td>\n",
       "      <td>...</td>\n",
       "      <td>...</td>\n",
       "      <td>...</td>\n",
       "      <td>...</td>\n",
       "      <td>...</td>\n",
       "      <td>...</td>\n",
       "      <td>...</td>\n",
       "      <td>...</td>\n",
       "      <td>...</td>\n",
       "      <td>...</td>\n",
       "      <td>...</td>\n",
       "      <td>...</td>\n",
       "      <td>...</td>\n",
       "      <td>...</td>\n",
       "      <td>...</td>\n",
       "      <td>...</td>\n",
       "      <td>...</td>\n",
       "      <td>...</td>\n",
       "      <td>...</td>\n",
       "      <td>...</td>\n",
       "      <td>...</td>\n",
       "      <td>...</td>\n",
       "      <td>...</td>\n",
       "      <td>...</td>\n",
       "      <td>...</td>\n",
       "      <td>...</td>\n",
       "      <td>...</td>\n",
       "      <td>...</td>\n",
       "      <td>...</td>\n",
       "      <td>...</td>\n",
       "    </tr>\n",
       "    <tr>\n",
       "      <th>564</th>\n",
       "      <td>926424</td>\n",
       "      <td>0</td>\n",
       "      <td>21.56</td>\n",
       "      <td>22.39</td>\n",
       "      <td>142.00</td>\n",
       "      <td>1479.0</td>\n",
       "      <td>0.11100</td>\n",
       "      <td>0.11590</td>\n",
       "      <td>0.24390</td>\n",
       "      <td>0.13890</td>\n",
       "      <td>0.1726</td>\n",
       "      <td>0.05623</td>\n",
       "      <td>1.1760</td>\n",
       "      <td>1.2560</td>\n",
       "      <td>7.673</td>\n",
       "      <td>158.70</td>\n",
       "      <td>0.010300</td>\n",
       "      <td>0.02891</td>\n",
       "      <td>0.05198</td>\n",
       "      <td>0.02454</td>\n",
       "      <td>0.01114</td>\n",
       "      <td>0.004239</td>\n",
       "      <td>25.450</td>\n",
       "      <td>26.40</td>\n",
       "      <td>166.10</td>\n",
       "      <td>2027.0</td>\n",
       "      <td>0.14100</td>\n",
       "      <td>0.21130</td>\n",
       "      <td>0.4107</td>\n",
       "      <td>0.2216</td>\n",
       "      <td>0.2060</td>\n",
       "      <td>0.07115</td>\n",
       "      <td>NaN</td>\n",
       "    </tr>\n",
       "    <tr>\n",
       "      <th>565</th>\n",
       "      <td>926682</td>\n",
       "      <td>0</td>\n",
       "      <td>20.13</td>\n",
       "      <td>28.25</td>\n",
       "      <td>131.20</td>\n",
       "      <td>1261.0</td>\n",
       "      <td>0.09780</td>\n",
       "      <td>0.10340</td>\n",
       "      <td>0.14400</td>\n",
       "      <td>0.09791</td>\n",
       "      <td>0.1752</td>\n",
       "      <td>0.05533</td>\n",
       "      <td>0.7655</td>\n",
       "      <td>2.4630</td>\n",
       "      <td>5.203</td>\n",
       "      <td>99.04</td>\n",
       "      <td>0.005769</td>\n",
       "      <td>0.02423</td>\n",
       "      <td>0.03950</td>\n",
       "      <td>0.01678</td>\n",
       "      <td>0.01898</td>\n",
       "      <td>0.002498</td>\n",
       "      <td>23.690</td>\n",
       "      <td>38.25</td>\n",
       "      <td>155.00</td>\n",
       "      <td>1731.0</td>\n",
       "      <td>0.11660</td>\n",
       "      <td>0.19220</td>\n",
       "      <td>0.3215</td>\n",
       "      <td>0.1628</td>\n",
       "      <td>0.2572</td>\n",
       "      <td>0.06637</td>\n",
       "      <td>NaN</td>\n",
       "    </tr>\n",
       "    <tr>\n",
       "      <th>566</th>\n",
       "      <td>926954</td>\n",
       "      <td>0</td>\n",
       "      <td>16.60</td>\n",
       "      <td>28.08</td>\n",
       "      <td>108.30</td>\n",
       "      <td>858.1</td>\n",
       "      <td>0.08455</td>\n",
       "      <td>0.10230</td>\n",
       "      <td>0.09251</td>\n",
       "      <td>0.05302</td>\n",
       "      <td>0.1590</td>\n",
       "      <td>0.05648</td>\n",
       "      <td>0.4564</td>\n",
       "      <td>1.0750</td>\n",
       "      <td>3.425</td>\n",
       "      <td>48.55</td>\n",
       "      <td>0.005903</td>\n",
       "      <td>0.03731</td>\n",
       "      <td>0.04730</td>\n",
       "      <td>0.01557</td>\n",
       "      <td>0.01318</td>\n",
       "      <td>0.003892</td>\n",
       "      <td>18.980</td>\n",
       "      <td>34.12</td>\n",
       "      <td>126.70</td>\n",
       "      <td>1124.0</td>\n",
       "      <td>0.11390</td>\n",
       "      <td>0.30940</td>\n",
       "      <td>0.3403</td>\n",
       "      <td>0.1418</td>\n",
       "      <td>0.2218</td>\n",
       "      <td>0.07820</td>\n",
       "      <td>NaN</td>\n",
       "    </tr>\n",
       "    <tr>\n",
       "      <th>567</th>\n",
       "      <td>927241</td>\n",
       "      <td>0</td>\n",
       "      <td>20.60</td>\n",
       "      <td>29.33</td>\n",
       "      <td>140.10</td>\n",
       "      <td>1265.0</td>\n",
       "      <td>0.11780</td>\n",
       "      <td>0.27700</td>\n",
       "      <td>0.35140</td>\n",
       "      <td>0.15200</td>\n",
       "      <td>0.2397</td>\n",
       "      <td>0.07016</td>\n",
       "      <td>0.7260</td>\n",
       "      <td>1.5950</td>\n",
       "      <td>5.772</td>\n",
       "      <td>86.22</td>\n",
       "      <td>0.006522</td>\n",
       "      <td>0.06158</td>\n",
       "      <td>0.07117</td>\n",
       "      <td>0.01664</td>\n",
       "      <td>0.02324</td>\n",
       "      <td>0.006185</td>\n",
       "      <td>25.740</td>\n",
       "      <td>39.42</td>\n",
       "      <td>184.60</td>\n",
       "      <td>1821.0</td>\n",
       "      <td>0.16500</td>\n",
       "      <td>0.86810</td>\n",
       "      <td>0.9387</td>\n",
       "      <td>0.2650</td>\n",
       "      <td>0.4087</td>\n",
       "      <td>0.12400</td>\n",
       "      <td>NaN</td>\n",
       "    </tr>\n",
       "    <tr>\n",
       "      <th>568</th>\n",
       "      <td>92751</td>\n",
       "      <td>1</td>\n",
       "      <td>7.76</td>\n",
       "      <td>24.54</td>\n",
       "      <td>47.92</td>\n",
       "      <td>181.0</td>\n",
       "      <td>0.05263</td>\n",
       "      <td>0.04362</td>\n",
       "      <td>0.00000</td>\n",
       "      <td>0.00000</td>\n",
       "      <td>0.1587</td>\n",
       "      <td>0.05884</td>\n",
       "      <td>0.3857</td>\n",
       "      <td>1.4280</td>\n",
       "      <td>2.548</td>\n",
       "      <td>19.15</td>\n",
       "      <td>0.007189</td>\n",
       "      <td>0.00466</td>\n",
       "      <td>0.00000</td>\n",
       "      <td>0.00000</td>\n",
       "      <td>0.02676</td>\n",
       "      <td>0.002783</td>\n",
       "      <td>9.456</td>\n",
       "      <td>30.37</td>\n",
       "      <td>59.16</td>\n",
       "      <td>268.6</td>\n",
       "      <td>0.08996</td>\n",
       "      <td>0.06444</td>\n",
       "      <td>0.0000</td>\n",
       "      <td>0.0000</td>\n",
       "      <td>0.2871</td>\n",
       "      <td>0.07039</td>\n",
       "      <td>NaN</td>\n",
       "    </tr>\n",
       "  </tbody>\n",
       "</table>\n",
       "<p>569 rows × 33 columns</p>\n",
       "</div>"
      ],
      "text/plain": [
       "           id  diagnosis  radius_mean  texture_mean  perimeter_mean  \\\n",
       "0      842302          0        17.99         10.38          122.80   \n",
       "1      842517          0        20.57         17.77          132.90   \n",
       "2    84300903          0        19.69         21.25          130.00   \n",
       "3    84348301          0        11.42         20.38           77.58   \n",
       "4    84358402          0        20.29         14.34          135.10   \n",
       "..        ...        ...          ...           ...             ...   \n",
       "564    926424          0        21.56         22.39          142.00   \n",
       "565    926682          0        20.13         28.25          131.20   \n",
       "566    926954          0        16.60         28.08          108.30   \n",
       "567    927241          0        20.60         29.33          140.10   \n",
       "568     92751          1         7.76         24.54           47.92   \n",
       "\n",
       "     area_mean  smoothness_mean  compactness_mean  concavity_mean  \\\n",
       "0       1001.0          0.11840           0.27760         0.30010   \n",
       "1       1326.0          0.08474           0.07864         0.08690   \n",
       "2       1203.0          0.10960           0.15990         0.19740   \n",
       "3        386.1          0.14250           0.28390         0.24140   \n",
       "4       1297.0          0.10030           0.13280         0.19800   \n",
       "..         ...              ...               ...             ...   \n",
       "564     1479.0          0.11100           0.11590         0.24390   \n",
       "565     1261.0          0.09780           0.10340         0.14400   \n",
       "566      858.1          0.08455           0.10230         0.09251   \n",
       "567     1265.0          0.11780           0.27700         0.35140   \n",
       "568      181.0          0.05263           0.04362         0.00000   \n",
       "\n",
       "     concave points_mean  symmetry_mean  fractal_dimension_mean  radius_se  \\\n",
       "0                0.14710         0.2419                 0.07871     1.0950   \n",
       "1                0.07017         0.1812                 0.05667     0.5435   \n",
       "2                0.12790         0.2069                 0.05999     0.7456   \n",
       "3                0.10520         0.2597                 0.09744     0.4956   \n",
       "4                0.10430         0.1809                 0.05883     0.7572   \n",
       "..                   ...            ...                     ...        ...   \n",
       "564              0.13890         0.1726                 0.05623     1.1760   \n",
       "565              0.09791         0.1752                 0.05533     0.7655   \n",
       "566              0.05302         0.1590                 0.05648     0.4564   \n",
       "567              0.15200         0.2397                 0.07016     0.7260   \n",
       "568              0.00000         0.1587                 0.05884     0.3857   \n",
       "\n",
       "     texture_se  perimeter_se  area_se  smoothness_se  compactness_se  \\\n",
       "0        0.9053         8.589   153.40       0.006399         0.04904   \n",
       "1        0.7339         3.398    74.08       0.005225         0.01308   \n",
       "2        0.7869         4.585    94.03       0.006150         0.04006   \n",
       "3        1.1560         3.445    27.23       0.009110         0.07458   \n",
       "4        0.7813         5.438    94.44       0.011490         0.02461   \n",
       "..          ...           ...      ...            ...             ...   \n",
       "564      1.2560         7.673   158.70       0.010300         0.02891   \n",
       "565      2.4630         5.203    99.04       0.005769         0.02423   \n",
       "566      1.0750         3.425    48.55       0.005903         0.03731   \n",
       "567      1.5950         5.772    86.22       0.006522         0.06158   \n",
       "568      1.4280         2.548    19.15       0.007189         0.00466   \n",
       "\n",
       "     concavity_se  concave points_se  symmetry_se  fractal_dimension_se  \\\n",
       "0         0.05373            0.01587      0.03003              0.006193   \n",
       "1         0.01860            0.01340      0.01389              0.003532   \n",
       "2         0.03832            0.02058      0.02250              0.004571   \n",
       "3         0.05661            0.01867      0.05963              0.009208   \n",
       "4         0.05688            0.01885      0.01756              0.005115   \n",
       "..            ...                ...          ...                   ...   \n",
       "564       0.05198            0.02454      0.01114              0.004239   \n",
       "565       0.03950            0.01678      0.01898              0.002498   \n",
       "566       0.04730            0.01557      0.01318              0.003892   \n",
       "567       0.07117            0.01664      0.02324              0.006185   \n",
       "568       0.00000            0.00000      0.02676              0.002783   \n",
       "\n",
       "     radius_worst  texture_worst  perimeter_worst  area_worst  \\\n",
       "0          25.380          17.33           184.60      2019.0   \n",
       "1          24.990          23.41           158.80      1956.0   \n",
       "2          23.570          25.53           152.50      1709.0   \n",
       "3          14.910          26.50            98.87       567.7   \n",
       "4          22.540          16.67           152.20      1575.0   \n",
       "..            ...            ...              ...         ...   \n",
       "564        25.450          26.40           166.10      2027.0   \n",
       "565        23.690          38.25           155.00      1731.0   \n",
       "566        18.980          34.12           126.70      1124.0   \n",
       "567        25.740          39.42           184.60      1821.0   \n",
       "568         9.456          30.37            59.16       268.6   \n",
       "\n",
       "     smoothness_worst  compactness_worst  concavity_worst  \\\n",
       "0             0.16220            0.66560           0.7119   \n",
       "1             0.12380            0.18660           0.2416   \n",
       "2             0.14440            0.42450           0.4504   \n",
       "3             0.20980            0.86630           0.6869   \n",
       "4             0.13740            0.20500           0.4000   \n",
       "..                ...                ...              ...   \n",
       "564           0.14100            0.21130           0.4107   \n",
       "565           0.11660            0.19220           0.3215   \n",
       "566           0.11390            0.30940           0.3403   \n",
       "567           0.16500            0.86810           0.9387   \n",
       "568           0.08996            0.06444           0.0000   \n",
       "\n",
       "     concave points_worst  symmetry_worst  fractal_dimension_worst  \\\n",
       "0                  0.2654          0.4601                  0.11890   \n",
       "1                  0.1860          0.2750                  0.08902   \n",
       "2                  0.2430          0.3613                  0.08758   \n",
       "3                  0.2575          0.6638                  0.17300   \n",
       "4                  0.1625          0.2364                  0.07678   \n",
       "..                    ...             ...                      ...   \n",
       "564                0.2216          0.2060                  0.07115   \n",
       "565                0.1628          0.2572                  0.06637   \n",
       "566                0.1418          0.2218                  0.07820   \n",
       "567                0.2650          0.4087                  0.12400   \n",
       "568                0.0000          0.2871                  0.07039   \n",
       "\n",
       "     Unnamed: 32  \n",
       "0            NaN  \n",
       "1            NaN  \n",
       "2            NaN  \n",
       "3            NaN  \n",
       "4            NaN  \n",
       "..           ...  \n",
       "564          NaN  \n",
       "565          NaN  \n",
       "566          NaN  \n",
       "567          NaN  \n",
       "568          NaN  \n",
       "\n",
       "[569 rows x 33 columns]"
      ]
     },
     "execution_count": 78,
     "metadata": {},
     "output_type": "execute_result"
    }
   ],
   "source": [
    "df"
   ]
  },
  {
   "cell_type": "code",
   "execution_count": 79,
   "id": "b7e9ced0-de0c-47e6-8223-34a0c918aebc",
   "metadata": {},
   "outputs": [
    {
     "data": {
      "text/plain": [
       "diagnosis\n",
       "1    357\n",
       "0    212\n",
       "Name: count, dtype: int64"
      ]
     },
     "execution_count": 79,
     "metadata": {},
     "output_type": "execute_result"
    }
   ],
   "source": [
    "df['diagnosis'].value_counts()"
   ]
  },
  {
   "cell_type": "markdown",
   "id": "0ff84afd-d675-4d97-b9ed-376e2754b296",
   "metadata": {},
   "source": [
    "## Özellik ve hedef değişken"
   ]
  },
  {
   "cell_type": "code",
   "execution_count": 80,
   "id": "c8c62a3e-27f1-47ec-bbbf-84e956fdab12",
   "metadata": {},
   "outputs": [],
   "source": [
    "X = df.drop(columns=['id', 'diagnosis', 'Unnamed: 32'])\n",
    "y = df[\"diagnosis\"]"
   ]
  },
  {
   "cell_type": "markdown",
   "id": "c4ae2dfb-c262-42b6-9af9-de9534981377",
   "metadata": {},
   "source": [
    "### Özellik seçimi (k en iyi özellikleri seçme)"
   ]
  },
  {
   "cell_type": "code",
   "execution_count": 81,
   "id": "b9255f10-0dc7-4d8b-8db2-909098c9d8a9",
   "metadata": {},
   "outputs": [],
   "source": [
    "from sklearn.feature_selection import SelectKBest, f_classif"
   ]
  },
  {
   "cell_type": "code",
   "execution_count": 82,
   "id": "21f1bda5-fce8-400b-978b-107d96d1f4ea",
   "metadata": {},
   "outputs": [],
   "source": [
    "selector = SelectKBest(score_func=f_classif, k=10)  # En iyi 10 özelliği seç\n",
    "X_new = selector.fit_transform(X, y)"
   ]
  },
  {
   "cell_type": "code",
   "execution_count": 83,
   "id": "f8b5b2a4-2544-4eba-bc8b-8410abdae04b",
   "metadata": {},
   "outputs": [],
   "source": [
    "# Seçilen özelliklerin indekslerini al\n",
    "selected_features = selector.get_support(indices=True)\n",
    "\n",
    "# Seçilen özelliklerin isimlerini al\n",
    "selected_feature_names = X.columns[selected_features]"
   ]
  },
  {
   "cell_type": "code",
   "execution_count": 84,
   "id": "7d452ac8-12b1-42ea-aa3e-aa244278a80d",
   "metadata": {},
   "outputs": [
    {
     "name": "stdout",
     "output_type": "stream",
     "text": [
      "Seçilen Özellikler: Index(['radius_mean', 'perimeter_mean', 'area_mean', 'concavity_mean',\n",
      "       'concave points_mean', 'radius_worst', 'perimeter_worst', 'area_worst',\n",
      "       'concavity_worst', 'concave points_worst'],\n",
      "      dtype='object')\n"
     ]
    }
   ],
   "source": [
    "print(\"Seçilen Özellikler:\", selected_feature_names)"
   ]
  },
  {
   "cell_type": "code",
   "execution_count": 85,
   "id": "5423ea36-716a-4583-a325-44c6f0d04c25",
   "metadata": {},
   "outputs": [],
   "source": [
    "# Skorlar (her özelliğin f-test skorları)\n",
    "scores = selector.scores_\n",
    "# P-değerleri (her özelliğin p-değerleri)\n",
    "p_values = selector.pvalues_"
   ]
  },
  {
   "cell_type": "code",
   "execution_count": 86,
   "id": "46502756-dd06-45cf-8d11-ad475254ef47",
   "metadata": {},
   "outputs": [
    {
     "name": "stdout",
     "output_type": "stream",
     "text": [
      "Özellik: radius_mean, Skor: 646.9810209786473, P-değeri: 8.465940572259247e-96\n",
      "Özellik: texture_mean, Skor: 118.09605934497365, P-değeri: 4.058636047908563e-25\n",
      "Özellik: perimeter_mean, Skor: 697.235272476532, P-değeri: 8.436251036161722e-101\n",
      "Özellik: area_mean, Skor: 573.0607465682366, P-değeri: 4.734564310305572e-88\n",
      "Özellik: smoothness_mean, Skor: 83.65112340843194, P-değeri: 1.051850359200222e-18\n",
      "Özellik: compactness_mean, Skor: 313.23307856764205, P-değeri: 3.938263105887389e-56\n",
      "Özellik: concavity_mean, Skor: 533.7931262035503, P-değeri: 9.96655575506809e-84\n",
      "Özellik: concave points_mean, Skor: 861.6760200073135, P-değeri: 7.101150161049467e-116\n",
      "Özellik: symmetry_mean, Skor: 69.52744350046207, P-değeri: 5.733384028468339e-16\n",
      "Özellik: fractal_dimension_mean, Skor: 0.0934592948710943, P-değeri: 0.7599368037304223\n",
      "Özellik: radius_se, Skor: 268.84032696734437, P-değeri: 9.738948656460723e-50\n",
      "Özellik: texture_se, Skor: 0.03909470231209489, P-değeri: 0.8433320287684485\n",
      "Özellik: perimeter_se, Skor: 253.89739178268252, P-değeri: 1.6519051758490894e-47\n",
      "Özellik: area_se, Skor: 243.65158577774116, P-değeri: 5.895521392606798e-46\n",
      "Özellik: smoothness_se, Skor: 2.5579678031863895, P-değeri: 0.11029660865784634\n",
      "Özellik: compactness_se, Skor: 53.24733912812024, P-değeri: 9.975994654076804e-13\n",
      "Özellik: concavity_se, Skor: 39.01448155684746, P-değeri: 8.260176167970819e-10\n",
      "Özellik: concave points_se, Skor: 113.26275994492413, P-değeri: 3.072308768818453e-24\n",
      "Özellik: symmetry_se, Skor: 0.024117406685952966, P-değeri: 0.8766418183877899\n",
      "Özellik: fractal_dimension_se, Skor: 3.468274757042187, P-değeri: 0.06307355082241178\n",
      "Özellik: radius_worst, Skor: 860.7817069850373, P-değeri: 8.482291921715855e-116\n",
      "Özellik: texture_worst, Skor: 149.59690468605072, P-değeri: 1.0780574879498465e-30\n",
      "Özellik: perimeter_worst, Skor: 897.9442188597807, P-değeri: 5.771397139669512e-119\n",
      "Özellik: area_worst, Skor: 661.6002055336272, P-değeri: 2.8288477042869e-97\n",
      "Özellik: smoothness_worst, Skor: 122.47288045844209, P-değeri: 6.575143633991326e-26\n",
      "Özellik: compactness_worst, Skor: 304.3410629037626, P-değeri: 7.069816352537797e-55\n",
      "Özellik: concavity_worst, Skor: 436.69193940305007, P-değeri: 2.464663956784375e-72\n",
      "Özellik: concave points_worst, Skor: 964.3853934517133, P-değeri: 1.9690997072128863e-124\n",
      "Özellik: symmetry_worst, Skor: 118.8602321361969, P-değeri: 2.9511205771550073e-25\n",
      "Özellik: fractal_dimension_worst, Skor: 66.44396064959517, P-değeri: 2.3164324499884858e-15\n"
     ]
    }
   ],
   "source": [
    "# Skorları ve p-değerlerini gösterir\n",
    "for feature, score, p_value in zip(X.columns, scores, p_values):\n",
    "    print(f\"Özellik: {feature}, Skor: {score}, P-değeri: {p_value}\")"
   ]
  },
  {
   "cell_type": "markdown",
   "id": "6157c81a-20ef-4709-8b74-e07dd66dbb2e",
   "metadata": {},
   "source": [
    "#### Hangi özellikleri nasıl seçtiğimiz anladığımıza göre  verimizi test - train diye bölelim"
   ]
  },
  {
   "cell_type": "code",
   "execution_count": 87,
   "id": "be0ce496-5b22-44d9-9146-8567bd65b3b8",
   "metadata": {},
   "outputs": [],
   "source": [
    "from sklearn.model_selection import train_test_split"
   ]
  },
  {
   "cell_type": "code",
   "execution_count": 88,
   "id": "e0f869dd-f340-4d1a-acbc-6e7d50f39ca4",
   "metadata": {},
   "outputs": [],
   "source": [
    "X_train, X_test, y_train, y_test = train_test_split(X_new, y, test_size=0.3, random_state=42)"
   ]
  },
  {
   "cell_type": "markdown",
   "id": "f2e116d9-abd0-43a0-9d85-6a4faae0871b",
   "metadata": {},
   "source": [
    "#### X yerine X_new almamızın nedeni özellik seçimi kısmına bakarak anlayabilirsiniz"
   ]
  },
  {
   "cell_type": "code",
   "execution_count": 89,
   "id": "5a953aa4-6623-4470-9917-fca7e253f690",
   "metadata": {},
   "outputs": [
    {
     "data": {
      "image/png": "[encoded data removed]",
      "text/plain": [
       "<Figure size 1000x800 with 2 Axes>"
      ]
     },
     "metadata": {},
     "output_type": "display_data"
    }
   ],
   "source": [
    "# Seçilen özellikleri pandas DataFrame'e dönüştür\n",
    "X_new_df = pd.DataFrame(X_new, columns=selected_feature_names)\n",
    "\n",
    "# Seçilen özelliklerin korelasyonunu hesaplayalım\n",
    "selected_corr_matrix = X_new_df.corr()\n",
    "\n",
    "# Korelasyon ısı haritasını çiziyoruz\n",
    "plt.figure(figsize=(10, 8))\n",
    "sns.heatmap(selected_corr_matrix, annot=True, cmap='coolwarm', fmt='.2f', linewidths=0.5)\n",
    "plt.title('Seçilen Özellikler Arasındaki Korelasyon')\n",
    "plt.show()"
   ]
  },
  {
   "cell_type": "code",
   "execution_count": 90,
   "id": "ced65207-aacd-4a9e-9741-6da71fcedad5",
   "metadata": {},
   "outputs": [
    {
     "data": {
      "text/html": [
       "<div>\n",
       "<style scoped>\n",
       "    .dataframe tbody tr th:only-of-type {\n",
       "        vertical-align: middle;\n",
       "    }\n",
       "\n",
       "    .dataframe tbody tr th {\n",
       "        vertical-align: top;\n",
       "    }\n",
       "\n",
       "    .dataframe thead th {\n",
       "        text-align: right;\n",
       "    }\n",
       "</style>\n",
       "<table border=\"1\" class=\"dataframe\">\n",
       "  <thead>\n",
       "    <tr style=\"text-align: right;\">\n",
       "      <th></th>\n",
       "      <th>radius_mean</th>\n",
       "      <th>perimeter_mean</th>\n",
       "      <th>area_mean</th>\n",
       "      <th>concavity_mean</th>\n",
       "      <th>concave points_mean</th>\n",
       "      <th>radius_worst</th>\n",
       "      <th>perimeter_worst</th>\n",
       "      <th>area_worst</th>\n",
       "      <th>concavity_worst</th>\n",
       "      <th>concave points_worst</th>\n",
       "    </tr>\n",
       "  </thead>\n",
       "  <tbody>\n",
       "    <tr>\n",
       "      <th>radius_mean</th>\n",
       "      <td>1.000000</td>\n",
       "      <td>0.997855</td>\n",
       "      <td>0.987357</td>\n",
       "      <td>0.676764</td>\n",
       "      <td>0.822529</td>\n",
       "      <td>0.969539</td>\n",
       "      <td>0.965137</td>\n",
       "      <td>0.941082</td>\n",
       "      <td>0.526911</td>\n",
       "      <td>0.744214</td>\n",
       "    </tr>\n",
       "    <tr>\n",
       "      <th>perimeter_mean</th>\n",
       "      <td>0.997855</td>\n",
       "      <td>1.000000</td>\n",
       "      <td>0.986507</td>\n",
       "      <td>0.716136</td>\n",
       "      <td>0.850977</td>\n",
       "      <td>0.969476</td>\n",
       "      <td>0.970387</td>\n",
       "      <td>0.941550</td>\n",
       "      <td>0.563879</td>\n",
       "      <td>0.771241</td>\n",
       "    </tr>\n",
       "    <tr>\n",
       "      <th>area_mean</th>\n",
       "      <td>0.987357</td>\n",
       "      <td>0.986507</td>\n",
       "      <td>1.000000</td>\n",
       "      <td>0.685983</td>\n",
       "      <td>0.823269</td>\n",
       "      <td>0.962746</td>\n",
       "      <td>0.959120</td>\n",
       "      <td>0.959213</td>\n",
       "      <td>0.512606</td>\n",
       "      <td>0.722017</td>\n",
       "    </tr>\n",
       "    <tr>\n",
       "      <th>concavity_mean</th>\n",
       "      <td>0.676764</td>\n",
       "      <td>0.716136</td>\n",
       "      <td>0.685983</td>\n",
       "      <td>1.000000</td>\n",
       "      <td>0.921391</td>\n",
       "      <td>0.688236</td>\n",
       "      <td>0.729565</td>\n",
       "      <td>0.675987</td>\n",
       "      <td>0.884103</td>\n",
       "      <td>0.861323</td>\n",
       "    </tr>\n",
       "    <tr>\n",
       "      <th>concave points_mean</th>\n",
       "      <td>0.822529</td>\n",
       "      <td>0.850977</td>\n",
       "      <td>0.823269</td>\n",
       "      <td>0.921391</td>\n",
       "      <td>1.000000</td>\n",
       "      <td>0.830318</td>\n",
       "      <td>0.855923</td>\n",
       "      <td>0.809630</td>\n",
       "      <td>0.752399</td>\n",
       "      <td>0.910155</td>\n",
       "    </tr>\n",
       "    <tr>\n",
       "      <th>radius_worst</th>\n",
       "      <td>0.969539</td>\n",
       "      <td>0.969476</td>\n",
       "      <td>0.962746</td>\n",
       "      <td>0.688236</td>\n",
       "      <td>0.830318</td>\n",
       "      <td>1.000000</td>\n",
       "      <td>0.993708</td>\n",
       "      <td>0.984015</td>\n",
       "      <td>0.573975</td>\n",
       "      <td>0.787424</td>\n",
       "    </tr>\n",
       "    <tr>\n",
       "      <th>perimeter_worst</th>\n",
       "      <td>0.965137</td>\n",
       "      <td>0.970387</td>\n",
       "      <td>0.959120</td>\n",
       "      <td>0.729565</td>\n",
       "      <td>0.855923</td>\n",
       "      <td>0.993708</td>\n",
       "      <td>1.000000</td>\n",
       "      <td>0.977578</td>\n",
       "      <td>0.618344</td>\n",
       "      <td>0.816322</td>\n",
       "    </tr>\n",
       "    <tr>\n",
       "      <th>area_worst</th>\n",
       "      <td>0.941082</td>\n",
       "      <td>0.941550</td>\n",
       "      <td>0.959213</td>\n",
       "      <td>0.675987</td>\n",
       "      <td>0.809630</td>\n",
       "      <td>0.984015</td>\n",
       "      <td>0.977578</td>\n",
       "      <td>1.000000</td>\n",
       "      <td>0.543331</td>\n",
       "      <td>0.747419</td>\n",
       "    </tr>\n",
       "    <tr>\n",
       "      <th>concavity_worst</th>\n",
       "      <td>0.526911</td>\n",
       "      <td>0.563879</td>\n",
       "      <td>0.512606</td>\n",
       "      <td>0.884103</td>\n",
       "      <td>0.752399</td>\n",
       "      <td>0.573975</td>\n",
       "      <td>0.618344</td>\n",
       "      <td>0.543331</td>\n",
       "      <td>1.000000</td>\n",
       "      <td>0.855434</td>\n",
       "    </tr>\n",
       "    <tr>\n",
       "      <th>concave points_worst</th>\n",
       "      <td>0.744214</td>\n",
       "      <td>0.771241</td>\n",
       "      <td>0.722017</td>\n",
       "      <td>0.861323</td>\n",
       "      <td>0.910155</td>\n",
       "      <td>0.787424</td>\n",
       "      <td>0.816322</td>\n",
       "      <td>0.747419</td>\n",
       "      <td>0.855434</td>\n",
       "      <td>1.000000</td>\n",
       "    </tr>\n",
       "  </tbody>\n",
       "</table>\n",
       "</div>"
      ],
      "text/plain": [
       "                      radius_mean  perimeter_mean  area_mean  concavity_mean  \\\n",
       "radius_mean              1.000000        0.997855   0.987357        0.676764   \n",
       "perimeter_mean           0.997855        1.000000   0.986507        0.716136   \n",
       "area_mean                0.987357        0.986507   1.000000        0.685983   \n",
       "concavity_mean           0.676764        0.716136   0.685983        1.000000   \n",
       "concave points_mean      0.822529        0.850977   0.823269        0.921391   \n",
       "radius_worst             0.969539        0.969476   0.962746        0.688236   \n",
       "perimeter_worst          0.965137        0.970387   0.959120        0.729565   \n",
       "area_worst               0.941082        0.941550   0.959213        0.675987   \n",
       "concavity_worst          0.526911        0.563879   0.512606        0.884103   \n",
       "concave points_worst     0.744214        0.771241   0.722017        0.861323   \n",
       "\n",
       "                      concave points_mean  radius_worst  perimeter_worst  \\\n",
       "radius_mean                      0.822529      0.969539         0.965137   \n",
       "perimeter_mean                   0.850977      0.969476         0.970387   \n",
       "area_mean                        0.823269      0.962746         0.959120   \n",
       "concavity_mean                   0.921391      0.688236         0.729565   \n",
       "concave points_mean              1.000000      0.830318         0.855923   \n",
       "radius_worst                     0.830318      1.000000         0.993708   \n",
       "perimeter_worst                  0.855923      0.993708         1.000000   \n",
       "area_worst                       0.809630      0.984015         0.977578   \n",
       "concavity_worst                  0.752399      0.573975         0.618344   \n",
       "concave points_worst             0.910155      0.787424         0.816322   \n",
       "\n",
       "                      area_worst  concavity_worst  concave points_worst  \n",
       "radius_mean             0.941082         0.526911              0.744214  \n",
       "perimeter_mean          0.941550         0.563879              0.771241  \n",
       "area_mean               0.959213         0.512606              0.722017  \n",
       "concavity_mean          0.675987         0.884103              0.861323  \n",
       "concave points_mean     0.809630         0.752399              0.910155  \n",
       "radius_worst            0.984015         0.573975              0.787424  \n",
       "perimeter_worst         0.977578         0.618344              0.816322  \n",
       "area_worst              1.000000         0.543331              0.747419  \n",
       "concavity_worst         0.543331         1.000000              0.855434  \n",
       "concave points_worst    0.747419         0.855434              1.000000  "
      ]
     },
     "execution_count": 90,
     "metadata": {},
     "output_type": "execute_result"
    }
   ],
   "source": [
    "selected_corr_matrix"
   ]
  },
  {
   "cell_type": "markdown",
   "id": "b348eeb9-2818-4fa6-bfc0-8926ed1556d8",
   "metadata": {},
   "source": [
    "## Özellikleri ölçeklendirelim (özellikle Lojistik Regresyon ve KNN için)"
   ]
  },
  {
   "cell_type": "code",
   "execution_count": 91,
   "id": "03c62b8d-e780-4bc2-a2ea-ce69094026cc",
   "metadata": {},
   "outputs": [],
   "source": [
    "from sklearn.preprocessing import StandardScaler"
   ]
  },
  {
   "cell_type": "code",
   "execution_count": 92,
   "id": "3b2fb51b-f433-4872-869f-242625ab98d7",
   "metadata": {},
   "outputs": [],
   "source": [
    "scaler = StandardScaler()\n",
    "X_train_scaled = scaler.fit_transform(X_train)\n",
    "X_test_scaled = scaler.transform(X_test)"
   ]
  },
  {
   "cell_type": "code",
   "execution_count": 93,
   "id": "d3ea173a-f5ca-4631-bede-f58f98257fc7",
   "metadata": {},
   "outputs": [
    {
     "data": {
      "text/plain": [
       "398"
      ]
     },
     "execution_count": 93,
     "metadata": {},
     "output_type": "execute_result"
    }
   ],
   "source": [
    "len(X_train)"
   ]
  },
  {
   "cell_type": "code",
   "execution_count": 94,
   "id": "ff483eab-3166-4af3-84a8-37d7743ce2bd",
   "metadata": {},
   "outputs": [
    {
     "data": {
      "text/plain": [
       "171"
      ]
     },
     "execution_count": 94,
     "metadata": {},
     "output_type": "execute_result"
    }
   ],
   "source": [
    "len(X_test)"
   ]
  },
  {
   "cell_type": "code",
   "execution_count": 95,
   "id": "9d6b8d44-b161-463b-ab27-38ad49f9e1ff",
   "metadata": {},
   "outputs": [],
   "source": [
    "from sklearn.metrics import accuracy_score , confusion_matrix , classification_report , roc_curve , auc"
   ]
  },
  {
   "cell_type": "markdown",
   "id": "297c456d-97fd-4dae-80e8-c3397e691122",
   "metadata": {},
   "source": [
    "## Logistic Regression Modeli"
   ]
  },
  {
   "cell_type": "code",
   "execution_count": 96,
   "id": "20cb03dd-fe34-4e37-bbb3-3b2a2c4d970d",
   "metadata": {},
   "outputs": [],
   "source": [
    "from sklearn.linear_model import LogisticRegression"
   ]
  },
  {
   "cell_type": "code",
   "execution_count": 97,
   "id": "e75c8832-25c7-4040-ab88-411ab72e499b",
   "metadata": {},
   "outputs": [],
   "source": [
    "log_reg = LogisticRegression(random_state = 42 , max_iter = 10000)\n",
    "log_reg.fit(X_train_scaled, y_train)\n",
    "log_pred = log_reg.predict(X_test_scaled)"
   ]
  },
  {
   "cell_type": "markdown",
   "id": "9a3940eb-568d-433d-80a7-69b99b412373",
   "metadata": {},
   "source": [
    "### Sonuçları değerlendir"
   ]
  },
  {
   "cell_type": "code",
   "execution_count": 98,
   "id": "ab6d0e26-ff25-4739-b284-e4ce066a3048",
   "metadata": {},
   "outputs": [
    {
     "data": {
      "text/plain": [
       "array([1, 0, 0, 1, 1, 0, 0, 0, 0, 1], dtype=int64)"
      ]
     },
     "execution_count": 98,
     "metadata": {},
     "output_type": "execute_result"
    }
   ],
   "source": [
    "log_pred[:10]"
   ]
  },
  {
   "cell_type": "code",
   "execution_count": 99,
   "id": "42304b9a-bbd2-478b-b2eb-c66e328a4acc",
   "metadata": {},
   "outputs": [
    {
     "data": {
      "text/plain": [
       "204    1\n",
       "70     0\n",
       "131    0\n",
       "431    1\n",
       "540    1\n",
       "567    0\n",
       "369    0\n",
       "29     0\n",
       "81     1\n",
       "477    1\n",
       "Name: diagnosis, dtype: int64"
      ]
     },
     "execution_count": 99,
     "metadata": {},
     "output_type": "execute_result"
    }
   ],
   "source": [
    "y_test[:10]"
   ]
  },
  {
   "cell_type": "code",
   "execution_count": 100,
   "id": "63adabfa-d70d-4c58-9824-4b9b5a2770e1",
   "metadata": {},
   "outputs": [
    {
     "data": {
      "text/plain": [
       "0.9649122807017544"
      ]
     },
     "execution_count": 100,
     "metadata": {},
     "output_type": "execute_result"
    }
   ],
   "source": [
    "accuracy_log = accuracy_score(y_test, log_pred)\n",
    "accuracy_log"
   ]
  },
  {
   "cell_type": "code",
   "execution_count": 101,
   "id": "681162bf-fffe-4e9b-a0ed-c239a4436198",
   "metadata": {},
   "outputs": [
    {
     "data": {
      "text/plain": [
       "array([[ 61,   2],\n",
       "       [  4, 104]], dtype=int64)"
      ]
     },
     "execution_count": 101,
     "metadata": {},
     "output_type": "execute_result"
    }
   ],
   "source": [
    "cm_log = confusion_matrix(y_test, log_pred)\n",
    "cm_log"
   ]
  },
  {
   "cell_type": "code",
   "execution_count": 102,
   "id": "2b92a878-d630-4c48-9938-523ca6f89e0c",
   "metadata": {},
   "outputs": [
    {
     "data": {
      "image/png": "[encoded data removed]",
      "text/plain": [
       "<Figure size 600x600 with 1 Axes>"
      ]
     },
     "metadata": {},
     "output_type": "display_data"
    }
   ],
   "source": [
    "# Karışıklık Matrisi Görselleştirmesi (Lojistik Regresyon)\n",
    "plt.figure(figsize=(6, 6))\n",
    "sns.heatmap(confusion_matrix(y_test, log_pred), annot=True, fmt='d', cmap='Blues', cbar=False)\n",
    "plt.title('Lojistik Regresyon - Karışıklık Matrisi')\n",
    "plt.xlabel('Tahmin Edilen')\n",
    "plt.ylabel('Gerçek Değer')\n",
    "plt.show()"
   ]
  },
  {
   "cell_type": "code",
   "execution_count": 103,
   "id": "76032831-1231-4a3e-8640-465d03a7aeb2",
   "metadata": {},
   "outputs": [
    {
     "data": {
      "image/png": "[encoded data removed]",
      "text/plain": [
       "<Figure size 800x600 with 1 Axes>"
      ]
     },
     "metadata": {},
     "output_type": "display_data"
    }
   ],
   "source": [
    "# ROC Eğrisi (Lojistik Regresyon)\n",
    "fpr, tpr, thresholds = roc_curve(y_test, log_reg.predict_proba(X_test_scaled)[:, 1])\n",
    "roc_auc = auc(fpr, tpr)\n",
    "\n",
    "plt.figure(figsize=(8, 6))\n",
    "plt.plot(fpr, tpr, color='darkorange', lw=2, label='ROC eğrisi (AUC = %0.2f)' % roc_auc)\n",
    "plt.plot([0, 1], [0, 1], color='navy', lw=2, linestyle='--')\n",
    "plt.xlabel('False Positive Rate')\n",
    "plt.ylabel('True Positive Rate')\n",
    "plt.title('Lojistik Regresyon ROC Eğrisi')\n",
    "plt.legend(loc='lower right')\n",
    "plt.show()"
   ]
  },
  {
   "cell_type": "code",
   "execution_count": 104,
   "id": "24c8fe6b-e54c-4064-999a-8e58f90db61b",
   "metadata": {},
   "outputs": [
    {
     "data": {
      "text/plain": [
       "0.9951499118165785"
      ]
     },
     "execution_count": 104,
     "metadata": {},
     "output_type": "execute_result"
    }
   ],
   "source": [
    "roc_auc"
   ]
  },
  {
   "cell_type": "code",
   "execution_count": 105,
   "id": "2a3105ca-7c0c-4f94-bc03-6829b5351f34",
   "metadata": {},
   "outputs": [
    {
     "name": "stdout",
     "output_type": "stream",
     "text": [
      "              precision    recall  f1-score   support\n",
      "\n",
      "           0       0.94      0.97      0.95        63\n",
      "           1       0.98      0.96      0.97       108\n",
      "\n",
      "    accuracy                           0.96       171\n",
      "   macro avg       0.96      0.97      0.96       171\n",
      "weighted avg       0.97      0.96      0.97       171\n",
      "\n"
     ]
    }
   ],
   "source": [
    "report_log = classification_report(y_test, log_pred)\n",
    "print(report_log)"
   ]
  },
  {
   "cell_type": "markdown",
   "id": "d5ebf12c-5517-4ee5-91dc-62f3f827cfb3",
   "metadata": {},
   "source": [
    "## Decision Tree Modeli"
   ]
  },
  {
   "cell_type": "code",
   "execution_count": 106,
   "id": "577b4a29-1956-4849-964b-a23be3a3cfe9",
   "metadata": {},
   "outputs": [],
   "source": [
    "from sklearn.tree import DecisionTreeClassifier"
   ]
  },
  {
   "cell_type": "code",
   "execution_count": 107,
   "id": "f7dbccd5-9f4d-44cf-9efa-60276ca87d60",
   "metadata": {},
   "outputs": [],
   "source": [
    "treeclf = DecisionTreeClassifier(random_state = 42)\n",
    "treeclf.fit(X_train , y_train)\n",
    "tree_pred = treeclf.predict(X_test)"
   ]
  },
  {
   "cell_type": "markdown",
   "id": "fa736a82-b16a-42e0-9655-1182f56fc85f",
   "metadata": {},
   "source": [
    "### Sonuçları değerlendir"
   ]
  },
  {
   "cell_type": "code",
   "execution_count": 108,
   "id": "bace21d9-50be-467f-bb3e-020fc1973f57",
   "metadata": {},
   "outputs": [
    {
     "data": {
      "text/plain": [
       "array([1, 0, 0, 1, 1, 0, 0, 0, 0, 1], dtype=int64)"
      ]
     },
     "execution_count": 108,
     "metadata": {},
     "output_type": "execute_result"
    }
   ],
   "source": [
    "tree_pred[:10]"
   ]
  },
  {
   "cell_type": "code",
   "execution_count": 109,
   "id": "f3b3f2ee-5c33-42a9-a7a7-bc2aa1490ee1",
   "metadata": {},
   "outputs": [
    {
     "data": {
      "text/plain": [
       "204    1\n",
       "70     0\n",
       "131    0\n",
       "431    1\n",
       "540    1\n",
       "567    0\n",
       "369    0\n",
       "29     0\n",
       "81     1\n",
       "477    1\n",
       "Name: diagnosis, dtype: int64"
      ]
     },
     "execution_count": 109,
     "metadata": {},
     "output_type": "execute_result"
    }
   ],
   "source": [
    "y_test[:10]"
   ]
  },
  {
   "cell_type": "code",
   "execution_count": 110,
   "id": "301d693d-1bde-4ac3-a668-8d6f4109d69c",
   "metadata": {},
   "outputs": [
    {
     "data": {
      "text/plain": [
       "0.9415204678362573"
      ]
     },
     "execution_count": 110,
     "metadata": {},
     "output_type": "execute_result"
    }
   ],
   "source": [
    "accuracy_tree = accuracy_score(y_test, tree_pred)\n",
    "accuracy_tree"
   ]
  },
  {
   "cell_type": "code",
   "execution_count": 111,
   "id": "1927aab8-60e2-4d74-9391-8fd56f67c559",
   "metadata": {},
   "outputs": [
    {
     "data": {
      "text/plain": [
       "array([[ 58,   5],\n",
       "       [  5, 103]], dtype=int64)"
      ]
     },
     "execution_count": 111,
     "metadata": {},
     "output_type": "execute_result"
    }
   ],
   "source": [
    "cm_tree = confusion_matrix(y_test, tree_pred)\n",
    "cm_tree"
   ]
  },
  {
   "cell_type": "code",
   "execution_count": 112,
   "id": "739da067-16d8-4fb6-b2bc-1468711e228a",
   "metadata": {},
   "outputs": [
    {
     "data": {
      "image/png": "[encoded data removed]",
      "text/plain": [
       "<Figure size 600x600 with 1 Axes>"
      ]
     },
     "metadata": {},
     "output_type": "display_data"
    }
   ],
   "source": [
    "# Karışıklık Matrisi Görselleştirmesi (Karar Ağacı)\n",
    "plt.figure(figsize=(6, 6))\n",
    "sns.heatmap(confusion_matrix(y_test, tree_pred), annot=True, fmt='d', cmap='Blues', cbar=False)\n",
    "plt.title('Karar Ağacı - Karışıklık Matrisi')\n",
    "plt.xlabel('Tahmin Edilen')\n",
    "plt.ylabel('Gerçek Değer')\n",
    "plt.show()"
   ]
  },
  {
   "cell_type": "code",
   "execution_count": 113,
   "id": "fcca8dba-6ed7-40eb-824d-507037826dfc",
   "metadata": {},
   "outputs": [
    {
     "data": {
      "image/png": "[encoded data removed]",
      "text/plain": [
       "<Figure size 800x600 with 1 Axes>"
      ]
     },
     "metadata": {},
     "output_type": "display_data"
    }
   ],
   "source": [
    "# ROC Eğrisi (Karar Ağacı)\n",
    "fpr, tpr, thresholds = roc_curve(y_test, treeclf.predict_proba(X_test)[:, 1])\n",
    "roc_auc = auc(fpr, tpr)\n",
    "\n",
    "plt.figure(figsize=(8, 6))\n",
    "plt.plot(fpr, tpr, color='darkorange', lw=2, label='ROC eğrisi (AUC = %0.2f)' % roc_auc)\n",
    "plt.plot([0, 1], [0, 1], color='navy', lw=2, linestyle='--')\n",
    "plt.xlabel('False Positive Rate')\n",
    "plt.ylabel('True Positive Rate')\n",
    "plt.title('Karar Ağacı ROC Eğrisi')\n",
    "plt.legend(loc='lower right')\n",
    "plt.show()"
   ]
  },
  {
   "cell_type": "code",
   "execution_count": 114,
   "id": "efc645b1-63b2-44fe-91cc-e5a3470eee9f",
   "metadata": {},
   "outputs": [
    {
     "data": {
      "text/plain": [
       "0.9371693121693122"
      ]
     },
     "execution_count": 114,
     "metadata": {},
     "output_type": "execute_result"
    }
   ],
   "source": [
    "roc_auc"
   ]
  },
  {
   "cell_type": "code",
   "execution_count": 115,
   "id": "d4d5d3b7-a23b-48fb-a7a6-51688ef4b026",
   "metadata": {},
   "outputs": [
    {
     "name": "stdout",
     "output_type": "stream",
     "text": [
      "              precision    recall  f1-score   support\n",
      "\n",
      "           0       0.92      0.92      0.92        63\n",
      "           1       0.95      0.95      0.95       108\n",
      "\n",
      "    accuracy                           0.94       171\n",
      "   macro avg       0.94      0.94      0.94       171\n",
      "weighted avg       0.94      0.94      0.94       171\n",
      "\n"
     ]
    }
   ],
   "source": [
    "report_tree = classification_report(y_test, tree_pred)\n",
    "print(report_tree)"
   ]
  },
  {
   "cell_type": "markdown",
   "id": "44bc5c19-0b15-4cb1-a40d-8aa0f18cb3b9",
   "metadata": {},
   "source": [
    "## Random Forest Modeli"
   ]
  },
  {
   "cell_type": "code",
   "execution_count": 116,
   "id": "122c6cb4-9fbe-4a46-9a0b-956109a004e6",
   "metadata": {},
   "outputs": [],
   "source": [
    "from sklearn.ensemble import RandomForestClassifier"
   ]
  },
  {
   "cell_type": "code",
   "execution_count": 136,
   "id": "c80c3cb9-51a9-4b85-9d96-5915cf598bbf",
   "metadata": {},
   "outputs": [],
   "source": [
    "forestclf = RandomForestClassifier(random_state = 0 , \n",
    "                                   n_estimators = 100 , # Ağaç sayısı\n",
    "                                   max_depth = 10)  # Maksimum derinlik\n",
    "forestclf.fit(X_train , y_train)\n",
    "forestclf_pred = forestclf.predict(X_test)"
   ]
  },
  {
   "cell_type": "markdown",
   "id": "1a1bc851-898a-48d7-9b93-3e9d1ed56837",
   "metadata": {},
   "source": [
    "### Sonuçları değerlendir"
   ]
  },
  {
   "cell_type": "code",
   "execution_count": 137,
   "id": "06b7de08-edda-4aa0-aa0c-3d3e100f5e91",
   "metadata": {},
   "outputs": [
    {
     "data": {
      "text/plain": [
       "array([1, 0, 0, 1, 1, 0, 0, 0, 0, 1], dtype=int64)"
      ]
     },
     "execution_count": 137,
     "metadata": {},
     "output_type": "execute_result"
    }
   ],
   "source": [
    "forestclf_pred[:10]"
   ]
  },
  {
   "cell_type": "code",
   "execution_count": 138,
   "id": "bbb53100-ce4d-4c5b-897f-3aef24398df3",
   "metadata": {},
   "outputs": [
    {
     "data": {
      "text/plain": [
       "204    1\n",
       "70     0\n",
       "131    0\n",
       "431    1\n",
       "540    1\n",
       "567    0\n",
       "369    0\n",
       "29     0\n",
       "81     1\n",
       "477    1\n",
       "Name: diagnosis, dtype: int64"
      ]
     },
     "execution_count": 138,
     "metadata": {},
     "output_type": "execute_result"
    }
   ],
   "source": [
    "y_test[:10]"
   ]
  },
  {
   "cell_type": "code",
   "execution_count": 139,
   "id": "b6eb48eb-2028-4aeb-9bfb-34cd29764e26",
   "metadata": {},
   "outputs": [
    {
     "data": {
      "text/plain": [
       "0.9590643274853801"
      ]
     },
     "execution_count": 139,
     "metadata": {},
     "output_type": "execute_result"
    }
   ],
   "source": [
    "accuracy_forest = accuracy_score(y_test, forestclf_pred)\n",
    "accuracy_forest"
   ]
  },
  {
   "cell_type": "code",
   "execution_count": 140,
   "id": "0e69ed36-0d1f-4644-a1ad-c9a1c12a0ea8",
   "metadata": {},
   "outputs": [
    {
     "data": {
      "text/plain": [
       "array([[ 59,   4],\n",
       "       [  3, 105]], dtype=int64)"
      ]
     },
     "execution_count": 140,
     "metadata": {},
     "output_type": "execute_result"
    }
   ],
   "source": [
    "cm_forest = confusion_matrix(y_test, forestclf_pred)\n",
    "cm_forest"
   ]
  },
  {
   "cell_type": "code",
   "execution_count": 141,
   "id": "f726061b-8aef-4e17-850e-47724128c4f7",
   "metadata": {},
   "outputs": [
    {
     "data": {
      "image/png": "[encoded data removed]",
      "text/plain": [
       "<Figure size 600x600 with 1 Axes>"
      ]
     },
     "metadata": {},
     "output_type": "display_data"
    }
   ],
   "source": [
    "# Karışıklık Matrisi Görselleştirmesi (Rastgele Orman)\n",
    "plt.figure(figsize=(6, 6))\n",
    "sns.heatmap(confusion_matrix(y_test, forestclf_pred), annot=True, fmt='d', cmap='Blues', cbar=False)\n",
    "plt.title('Rastgele Orman - Karışıklık Matrisi')\n",
    "plt.xlabel('Tahmin Edilen')\n",
    "plt.ylabel('Gerçek Değer')\n",
    "plt.show()\n"
   ]
  },
  {
   "cell_type": "code",
   "execution_count": 142,
   "id": "e9a8bc9f-2514-49d4-897d-3991ac428ee5",
   "metadata": {},
   "outputs": [
    {
     "data": {
      "image/png": "[encoded data removed]",
      "text/plain": [
       "<Figure size 800x600 with 1 Axes>"
      ]
     },
     "metadata": {},
     "output_type": "display_data"
    }
   ],
   "source": [
    "# ROC Eğrisi (Rastgele Orman)\n",
    "fpr, tpr, thresholds = roc_curve(y_test, forestclf.predict_proba(X_test)[:, 1])\n",
    "roc_auc = auc(fpr, tpr)\n",
    "\n",
    "plt.figure(figsize=(8, 6))\n",
    "plt.plot(fpr, tpr, color='darkorange', lw=2, label='ROC eğrisi (AUC = %0.2f)' % roc_auc)\n",
    "plt.plot([0, 1], [0, 1], color='navy', lw=2, linestyle='--')\n",
    "plt.xlabel('False Positive Rate')\n",
    "plt.ylabel('True Positive Rate')\n",
    "plt.title('Rastgele Orman ROC Eğrisi')\n",
    "plt.legend(loc='lower right')\n",
    "plt.show()\n"
   ]
  },
  {
   "cell_type": "code",
   "execution_count": 143,
   "id": "368a6f26-05af-4061-9b08-f91774c19921",
   "metadata": {},
   "outputs": [
    {
     "data": {
      "text/plain": [
       "0.9919165196942975"
      ]
     },
     "execution_count": 143,
     "metadata": {},
     "output_type": "execute_result"
    }
   ],
   "source": [
    "roc_auc"
   ]
  },
  {
   "cell_type": "code",
   "execution_count": 144,
   "id": "945d83c4-f4e4-43a6-beef-e72aaa8a83f9",
   "metadata": {},
   "outputs": [
    {
     "name": "stdout",
     "output_type": "stream",
     "text": [
      "              precision    recall  f1-score   support\n",
      "\n",
      "           0       0.95      0.94      0.94        63\n",
      "           1       0.96      0.97      0.97       108\n",
      "\n",
      "    accuracy                           0.96       171\n",
      "   macro avg       0.96      0.95      0.96       171\n",
      "weighted avg       0.96      0.96      0.96       171\n",
      "\n"
     ]
    }
   ],
   "source": [
    "report_forest = classification_report(y_test, forestclf_pred)\n",
    "print(report_forest)"
   ]
  },
  {
   "cell_type": "markdown",
   "id": "c48f656b-cf36-4bc7-aea3-d324c1d8200a",
   "metadata": {},
   "source": [
    "## KNeighbors Classifier Modeli"
   ]
  },
  {
   "cell_type": "code",
   "execution_count": 145,
   "id": "a3feecb1-7027-428e-83f5-aae9ac185ec0",
   "metadata": {},
   "outputs": [],
   "source": [
    "from sklearn.neighbors import KNeighborsClassifier"
   ]
  },
  {
   "cell_type": "code",
   "execution_count": 155,
   "id": "4e8911d2-29de-4963-8a64-3629c12b4db5",
   "metadata": {},
   "outputs": [],
   "source": [
    "# K-En Yakın Komşu Modeli\n",
    "kneighclf = KNeighborsClassifier(n_neighbors=3)\n",
    "kneighclf.fit(X_train_scaled, y_train)\n",
    "kneighclf_pred = kneighclf.predict(X_test_scaled)"
   ]
  },
  {
   "cell_type": "markdown",
   "id": "80002516-b5b9-4071-912c-91d2a18cf606",
   "metadata": {},
   "source": [
    "### Sonuçları değerlendir"
   ]
  },
  {
   "cell_type": "code",
   "execution_count": 156,
   "id": "16362409-a1c6-4203-b969-0d7fc9343490",
   "metadata": {},
   "outputs": [
    {
     "data": {
      "text/plain": [
       "array([1, 0, 0, 1, 1, 0, 0, 0, 0, 1], dtype=int64)"
      ]
     },
     "execution_count": 156,
     "metadata": {},
     "output_type": "execute_result"
    }
   ],
   "source": [
    "kneighclf_pred[:10]"
   ]
  },
  {
   "cell_type": "code",
   "execution_count": 157,
   "id": "9f5aa633-5430-4778-8cc2-7c21d8c32ffd",
   "metadata": {},
   "outputs": [
    {
     "data": {
      "text/plain": [
       "204    1\n",
       "70     0\n",
       "131    0\n",
       "431    1\n",
       "540    1\n",
       "567    0\n",
       "369    0\n",
       "29     0\n",
       "81     1\n",
       "477    1\n",
       "Name: diagnosis, dtype: int64"
      ]
     },
     "execution_count": 157,
     "metadata": {},
     "output_type": "execute_result"
    }
   ],
   "source": [
    "y_test[:10]"
   ]
  },
  {
   "cell_type": "code",
   "execution_count": 158,
   "id": "c71c6fab-fdce-4f27-bbe6-cf7942b7d162",
   "metadata": {},
   "outputs": [
    {
     "data": {
      "text/plain": [
       "0.9532163742690059"
      ]
     },
     "execution_count": 158,
     "metadata": {},
     "output_type": "execute_result"
    }
   ],
   "source": [
    "accuracy_kneigh = accuracy_score(y_test, kneighclf_pred)\n",
    "accuracy_kneigh"
   ]
  },
  {
   "cell_type": "code",
   "execution_count": 159,
   "id": "c3ac1447-887e-4925-aa53-00b6bb71dcc3",
   "metadata": {},
   "outputs": [
    {
     "data": {
      "text/plain": [
       "array([[ 59,   4],\n",
       "       [  4, 104]], dtype=int64)"
      ]
     },
     "execution_count": 159,
     "metadata": {},
     "output_type": "execute_result"
    }
   ],
   "source": [
    "cm_kneigh = confusion_matrix(y_test, kneighclf_pred)\n",
    "cm_kneigh"
   ]
  },
  {
   "cell_type": "code",
   "execution_count": 160,
   "id": "442841ef-9719-4b25-ac99-a47ba0516e42",
   "metadata": {},
   "outputs": [
    {
     "data": {
      "image/png": "[encoded data removed]",
      "text/plain": [
       "<Figure size 600x600 with 1 Axes>"
      ]
     },
     "metadata": {},
     "output_type": "display_data"
    }
   ],
   "source": [
    "# Karışıklık Matrisi Görselleştirmesi (K-En Yakın Komşu)\n",
    "plt.figure(figsize=(6, 6))\n",
    "sns.heatmap(confusion_matrix(y_test, kneighclf_pred), annot=True, fmt='d', cmap='Blues', cbar=False)\n",
    "plt.title('K-En Yakın Komşu - Karışıklık Matrisi')\n",
    "plt.xlabel('Tahmin Edilen')\n",
    "plt.ylabel('Gerçek Değer')\n",
    "plt.show()"
   ]
  },
  {
   "cell_type": "code",
   "execution_count": 161,
   "id": "562ed978-02dc-4569-80a7-532ccfc4d56c",
   "metadata": {},
   "outputs": [
    {
     "data": {
      "image/png": "[encoded data removed]",
      "text/plain": [
       "<Figure size 800x600 with 1 Axes>"
      ]
     },
     "metadata": {},
     "output_type": "display_data"
    }
   ],
   "source": [
    "# ROC Eğrisi (K-En Yakın Komşu)\n",
    "fpr, tpr, thresholds = roc_curve(y_test, kneighclf.predict_proba(X_test_scaled)[:, 1])\n",
    "roc_auc = auc(fpr, tpr)\n",
    "\n",
    "plt.figure(figsize=(8, 6))\n",
    "plt.plot(fpr, tpr, color='darkorange', lw=2, label='ROC eğrisi (AUC = %0.2f)' % roc_auc)\n",
    "plt.plot([0, 1], [0, 1], color='navy', lw=2, linestyle='--')\n",
    "plt.xlabel('False Positive Rate')\n",
    "plt.ylabel('True Positive Rate')\n",
    "plt.title('K-En Yakın Komşu ROC Eğrisi')\n",
    "plt.legend(loc='lower right')\n",
    "plt.show()"
   ]
  },
  {
   "cell_type": "code",
   "execution_count": 162,
   "id": "5b0fd3af-72f6-479c-9be4-bc0affd515f8",
   "metadata": {},
   "outputs": [
    {
     "data": {
      "text/plain": [
       "0.978395061728395"
      ]
     },
     "execution_count": 162,
     "metadata": {},
     "output_type": "execute_result"
    }
   ],
   "source": [
    "roc_auc"
   ]
  },
  {
   "cell_type": "code",
   "execution_count": 163,
   "id": "c0b62838-69e2-40e8-9120-2d6a30feb50f",
   "metadata": {},
   "outputs": [
    {
     "name": "stdout",
     "output_type": "stream",
     "text": [
      "              precision    recall  f1-score   support\n",
      "\n",
      "           0       0.94      0.94      0.94        63\n",
      "           1       0.96      0.96      0.96       108\n",
      "\n",
      "    accuracy                           0.95       171\n",
      "   macro avg       0.95      0.95      0.95       171\n",
      "weighted avg       0.95      0.95      0.95       171\n",
      "\n"
     ]
    }
   ],
   "source": [
    "report_kneigh = classification_report(y_test, kneighclf_pred)\n",
    "print(report_kneigh)"
   ]
  },
  {
   "cell_type": "markdown",
   "id": "f41ef63c-dee5-41ed-bf61-2474905980e6",
   "metadata": {},
   "source": [
    "### Modellerin doğruluk değerlerinin birbirleriyle karşılaştırılması"
   ]
  },
  {
   "cell_type": "code",
   "execution_count": 164,
   "id": "a27f7957-b4fa-4a1e-9087-96953a6c1e32",
   "metadata": {},
   "outputs": [
    {
     "data": {
      "image/png": "[encoded data removed]",
      "text/plain": [
       "<Figure size 1000x600 with 1 Axes>"
      ]
     },
     "metadata": {},
     "output_type": "display_data"
    }
   ],
   "source": [
    "# Model isimleri ve doğruluk değerleri\n",
    "models = ['Lojistik Regresyon', 'Karar Ağacı', 'Rastgele Orman', 'K-En Yakın Komşu']\n",
    "accuracies = [\n",
    "    accuracy_score(y_test, log_pred),\n",
    "    accuracy_score(y_test, tree_pred),\n",
    "    accuracy_score(y_test, forestclf_pred),\n",
    "    accuracy_score(y_test, kneighclf_pred)\n",
    "]\n",
    "\n",
    "# Grafik oluşturma\n",
    "plt.figure(figsize=(10, 6))\n",
    "graf = sns.barplot(x=models, y=accuracies)\n",
    "\n",
    "# Her çubuğun üzerine doğruluk değerini yazdırmak için\n",
    "for i, value in enumerate(accuracies):\n",
    "    graf.text(i, value + 0.01, f'{value:.3f}', ha='center', va='bottom', fontsize=10)\n",
    "\n",
    "plt.title('Model Doğruluğu Karşılaştırması')\n",
    "plt.xlabel('Model')\n",
    "plt.ylabel('Doğruluk')\n",
    "plt.show()\n"
   ]
  },
  {
   "cell_type": "code",
   "execution_count": null,
   "id": "58c29b5a-44fb-46da-8781-d43ad408f0ec",
   "metadata": {},
   "outputs": [],
   "source": []
  }
 ],
 "metadata": {
  "kernelspec": {
   "display_name": "Python 3 (ipykernel)",
   "language": "python",
   "name": "python3"
  },
  "language_info": {
   "codemirror_mode": {
    "name": "ipython",
    "version": 3
   },
   "file_extension": ".py",
   "mimetype": "text/x-python",
   "name": "python",
   "nbconvert_exporter": "python",
   "pygments_lexer": "ipython3",
   "version": "3.12.5"
  }
 },
 "nbformat": 4,
 "nbformat_minor": 5
}
